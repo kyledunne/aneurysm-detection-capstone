{
  "cells": [
    {
      "metadata": {
        "id": "304f785d4bd1883f"
      },
      "cell_type": "markdown",
      "source": [
        "# Notebook for Google Colab\n",
        "\n",
        "My main code for this project is in [aneurysm_detection.ipynb](aneurysm_detection.ipynb). For organization and simplification purposes, the code for running my models on a Google Colab GPU environment is all here: this mainly involves loading the generated data. The generated data was created from the preprocessing code in [aneurysm_detection.ipynb](aneurysm_detection.ipynb)"
      ],
      "id": "304f785d4bd1883f"
    },
    {
      "cell_type": "code",
      "execution_count": 1,
      "id": "initial_id",
      "metadata": {
        "collapsed": true,
        "colab": {
          "base_uri": "https://localhost:8080/"
        },
        "id": "initial_id",
        "outputId": "14d2cc54-a3df-434a-f650-444bb7c1027c"
      },
      "outputs": [
        {
          "output_type": "stream",
          "name": "stdout",
          "text": [
            "Requirement already satisfied: pydicom in /usr/local/lib/python3.12/dist-packages (3.0.1)\n",
            "Requirement already satisfied: keras_tuner in /usr/local/lib/python3.12/dist-packages (1.4.7)\n",
            "Requirement already satisfied: keras in /usr/local/lib/python3.12/dist-packages (from keras_tuner) (3.10.0)\n",
            "Requirement already satisfied: packaging in /usr/local/lib/python3.12/dist-packages (from keras_tuner) (25.0)\n",
            "Requirement already satisfied: requests in /usr/local/lib/python3.12/dist-packages (from keras_tuner) (2.32.4)\n",
            "Requirement already satisfied: kt-legacy in /usr/local/lib/python3.12/dist-packages (from keras_tuner) (1.0.5)\n",
            "Requirement already satisfied: absl-py in /usr/local/lib/python3.12/dist-packages (from keras->keras_tuner) (1.4.0)\n",
            "Requirement already satisfied: numpy in /usr/local/lib/python3.12/dist-packages (from keras->keras_tuner) (2.0.2)\n",
            "Requirement already satisfied: rich in /usr/local/lib/python3.12/dist-packages (from keras->keras_tuner) (13.9.4)\n",
            "Requirement already satisfied: namex in /usr/local/lib/python3.12/dist-packages (from keras->keras_tuner) (0.1.0)\n",
            "Requirement already satisfied: h5py in /usr/local/lib/python3.12/dist-packages (from keras->keras_tuner) (3.14.0)\n",
            "Requirement already satisfied: optree in /usr/local/lib/python3.12/dist-packages (from keras->keras_tuner) (0.17.0)\n",
            "Requirement already satisfied: ml-dtypes in /usr/local/lib/python3.12/dist-packages (from keras->keras_tuner) (0.5.3)\n",
            "Requirement already satisfied: charset_normalizer<4,>=2 in /usr/local/lib/python3.12/dist-packages (from requests->keras_tuner) (3.4.3)\n",
            "Requirement already satisfied: idna<4,>=2.5 in /usr/local/lib/python3.12/dist-packages (from requests->keras_tuner) (3.10)\n",
            "Requirement already satisfied: urllib3<3,>=1.21.1 in /usr/local/lib/python3.12/dist-packages (from requests->keras_tuner) (2.5.0)\n",
            "Requirement already satisfied: certifi>=2017.4.17 in /usr/local/lib/python3.12/dist-packages (from requests->keras_tuner) (2025.10.5)\n",
            "Requirement already satisfied: typing-extensions>=4.6.0 in /usr/local/lib/python3.12/dist-packages (from optree->keras->keras_tuner) (4.15.0)\n",
            "Requirement already satisfied: markdown-it-py>=2.2.0 in /usr/local/lib/python3.12/dist-packages (from rich->keras->keras_tuner) (4.0.0)\n",
            "Requirement already satisfied: pygments<3.0.0,>=2.13.0 in /usr/local/lib/python3.12/dist-packages (from rich->keras->keras_tuner) (2.19.2)\n",
            "Requirement already satisfied: mdurl~=0.1 in /usr/local/lib/python3.12/dist-packages (from markdown-it-py>=2.2.0->rich->keras->keras_tuner) (0.1.2)\n"
          ]
        }
      ],
      "source": [
        "!pip install pydicom keras_tuner\n",
        "import pandas as pd\n",
        "import numpy as np\n",
        "from pathlib import Path\n",
        "import random\n",
        "import pickle\n",
        "import json\n",
        "from pydicom import dcmread\n",
        "from pydicom.data import get_testdata_file\n",
        "import keras\n",
        "from keras import Sequential\n",
        "from keras.layers import Conv2D, MaxPooling2D, Flatten, Dense, Input, Dropout, GlobalAveragePooling2D, BatchNormalization, Activation\n",
        "from keras.models import load_model, Model\n",
        "from keras.callbacks import ModelCheckpoint, EarlyStopping\n",
        "from keras.metrics import BinaryAccuracy, Precision, Recall\n",
        "from keras.optimizers import Adam, RMSprop\n",
        "from keras_tuner import Hyperband\n",
        "from sklearn.model_selection import train_test_split\n",
        "import tensorflow as tf\n",
        "from tensorflow.data import Dataset\n",
        "import time\n",
        "import cv2\n",
        "import gc\n",
        "import plotly.express as px\n",
        "import sys"
      ]
    },
    {
      "metadata": {
        "colab": {
          "base_uri": "https://localhost:8080/"
        },
        "id": "a3fb42593862994f",
        "outputId": "d49bed07-d7e2-41d4-bb01-7bd318028fc3"
      },
      "cell_type": "code",
      "outputs": [
        {
          "output_type": "stream",
          "name": "stdout",
          "text": [
            "Drive already mounted at /content/drive; to attempt to forcibly remount, call drive.mount(\"/content/drive\", force_remount=True).\n"
          ]
        }
      ],
      "execution_count": 2,
      "source": [
        "from google.colab import drive\n",
        "drive.mount('/content/drive')\n",
        "home_folder = '/content/drive/My Drive/Colab Notebooks/rsna-intercranial-aneurysm-detection/'\n",
        "data_gen_folder = home_folder + 'data_gen_2/'"
      ],
      "id": "a3fb42593862994f"
    },
    {
      "metadata": {
        "id": "d36d6ede833698e7"
      },
      "cell_type": "code",
      "outputs": [],
      "execution_count": 3,
      "source": [
        "X_val_file_path = data_gen_folder + 'X_val.pkl'\n",
        "X_train_file_path = data_gen_folder + 'X_train.pkl'\n",
        "y_val_file_path = data_gen_folder + 'y_val.csv'\n",
        "y_train_file_path = data_gen_folder + 'y_train.csv'"
      ],
      "id": "d36d6ede833698e7"
    },
    {
      "metadata": {
        "id": "d0c417f08ce5d476"
      },
      "cell_type": "code",
      "outputs": [],
      "execution_count": 4,
      "source": [
        "y_val_loaded = pd.read_csv(y_val_file_path)\n",
        "y_train_loaded = pd.read_csv(y_train_file_path)\n",
        "\n",
        "y_val_loaded = np.array(y_val_loaded)\n",
        "y_train_loaded = np.array(y_train_loaded)\n",
        "\n",
        "y_val_in_brain = y_val_loaded[:, 0]\n",
        "y_val_visible = y_val_loaded[:, 1]\n",
        "y_train_in_brain = y_train_loaded[:, 0]\n",
        "y_train_visible = y_train_loaded[:, 1]"
      ],
      "id": "d0c417f08ce5d476"
    },
    {
      "metadata": {
        "id": "325d6d28807c2d07"
      },
      "cell_type": "code",
      "outputs": [],
      "execution_count": 5,
      "source": [
        "with open(X_val_file_path, 'rb') as file:\n",
        "    X_val_loaded = pickle.load(file)"
      ],
      "id": "325d6d28807c2d07"
    },
    {
      "metadata": {
        "id": "55f87d68edb45440"
      },
      "cell_type": "code",
      "outputs": [],
      "execution_count": 6,
      "source": [
        "with open(X_train_file_path, 'rb') as file:\n",
        "    X_train_loaded = pickle.load(file)"
      ],
      "id": "55f87d68edb45440"
    },
    {
      "metadata": {
        "id": "91b32b24f73fa07a"
      },
      "cell_type": "code",
      "outputs": [],
      "execution_count": 7,
      "source": [
        "X_train_loaded = X_train_loaded[..., np.newaxis]\n",
        "X_val_loaded = X_val_loaded[..., np.newaxis]"
      ],
      "id": "91b32b24f73fa07a"
    },
    {
      "metadata": {
        "id": "6eabb5bc072f94e3"
      },
      "cell_type": "code",
      "outputs": [],
      "execution_count": null,
      "source": [
        "training_history_file_path = data_gen_folder + 'training_history.txt'\n",
        "model_save_file_path = data_gen_folder + 'saved_model.keras'"
      ],
      "id": "6eabb5bc072f94e3"
    },
    {
      "metadata": {
        "id": "3efb264e32eb84e6"
      },
      "cell_type": "code",
      "outputs": [],
      "execution_count": 8,
      "source": [
        "val_visible_ds = Dataset.from_tensor_slices((X_val_loaded, y_val_visible)).batch(32).prefetch(tf.data.AUTOTUNE)\n",
        "train_visible_ds = Dataset.from_tensor_slices((X_train_loaded, y_train_visible)).batch(32).prefetch(tf.data.AUTOTUNE)"
      ],
      "id": "3efb264e32eb84e6"
    },
    {
      "metadata": {
        "id": "5a534a9c88b643cb"
      },
      "cell_type": "code",
      "outputs": [],
      "execution_count": 10,
      "source": [
        "val_in_brain_ds = Dataset.from_tensor_slices((X_val_loaded, y_val_in_brain)).batch(32).prefetch(tf.data.AUTOTUNE)\n",
        "train_in_brain_ds = Dataset.from_tensor_slices((X_train_loaded, y_train_in_brain)).batch(32).prefetch(tf.data.AUTOTUNE)"
      ],
      "id": "5a534a9c88b643cb"
    },
    {
      "metadata": {
        "colab": {
          "base_uri": "https://localhost:8080/"
        },
        "id": "c62d310028060628",
        "outputId": "96865900-8b15-414d-89d9-cc7bf8a3f082"
      },
      "cell_type": "code",
      "outputs": [
        {
          "output_type": "execute_result",
          "data": {
            "text/plain": [
              "60"
            ]
          },
          "metadata": {},
          "execution_count": 9
        }
      ],
      "execution_count": 9,
      "source": [
        "del X_train_loaded\n",
        "del X_val_loaded\n",
        "gc.collect()"
      ],
      "id": "c62d310028060628"
    },
    {
      "metadata": {
        "id": "abe598846e7728ea"
      },
      "cell_type": "code",
      "outputs": [],
      "execution_count": 10,
      "source": [
        "processed_image_dim = 512"
      ],
      "id": "abe598846e7728ea"
    },
    {
      "metadata": {
        "id": "ac7ad02561f7b4c"
      },
      "cell_type": "code",
      "outputs": [],
      "execution_count": 11,
      "source": [
        "# This model can be used *separately* for in_brain_with_aneurysm and aneurysm_visible_in_image\n",
        "# Different architectures may be better suited for each problem\n",
        "def build_model(hp):\n",
        "    inputs = Input(shape=(processed_image_dim, processed_image_dim, 1))\n",
        "\n",
        "    # Vary the number of filters in conv layers\n",
        "    x = Conv2D(filters=hp.Int('conv1_filters', min_value=32, max_value=64, step=16),\n",
        "               kernel_size=hp.Choice('conv1_kernel', values=[3, 5]), activation='relu', padding='same')(inputs)\n",
        "    x = MaxPooling2D(2, padding='same')(x)\n",
        "\n",
        "    x = Conv2D(filters=hp.Int('conv2_filters', min_value=64, max_value=128, step=32),\n",
        "               kernel_size=hp.Choice('conv2_kernel', values=[3, 5]), activation='relu', padding='same')(x)\n",
        "    x = MaxPooling2D(2, padding='same')(x)\n",
        "\n",
        "    x = Conv2D(filters=hp.Int('conv3_filters', 128, 256, step=64), kernel_size=3, use_bias=False, padding='same')(x)\n",
        "    x = BatchNormalization()(x)\n",
        "    x = Activation('relu')(x)\n",
        "    x = MaxPooling2D(2, padding='same')(x)\n",
        "    x = Dropout(rate=hp.Float('dropout_1', 0.2, 0.4, step=0.1))(x)\n",
        "\n",
        "    x = Conv2D(256, 3, activation='relu', padding='same')(x)\n",
        "    x = MaxPooling2D(2, padding='same')(x)\n",
        "\n",
        "    x = Conv2D(256, 3, use_bias=False, padding='same')(x)\n",
        "    x = BatchNormalization()(x)\n",
        "    x = Activation('relu')(x)\n",
        "\n",
        "    x = GlobalAveragePooling2D()(x)\n",
        "    x = Dropout(rate=hp.Float('dropout_2', 0.3, 0.5, step=0.1))(x)\n",
        "\n",
        "    out = Dense(1, activation='sigmoid')(x)\n",
        "\n",
        "    # Choose between the two (seemingly) most popular optimizers and a variety of learning rates\n",
        "    optimizer_choice = hp.Choice('optimizer', ['adam', 'rmsprop'])\n",
        "    if optimizer_choice == 'adam':\n",
        "        optimizer = Adam(learning_rate=hp.Float('adam_lr', 1e-5, 1e-3, sampling='log'))\n",
        "    else:\n",
        "        optimizer = RMSprop(learning_rate=hp.Float('rms_lr', 1e-5, 1e-3, sampling='log'))\n",
        "\n",
        "    model = keras.Model(inputs, out)\n",
        "\n",
        "    model.compile(\n",
        "        optimizer=optimizer,\n",
        "        loss='binary_crossentropy',\n",
        "        metrics=[keras.metrics.BinaryAccuracy(), keras.metrics.Recall(), keras.metrics.Precision()]\n",
        "    )\n",
        "\n",
        "    return model"
      ],
      "id": "ac7ad02561f7b4c"
    },
    {
      "metadata": {
        "colab": {
          "base_uri": "https://localhost:8080/"
        },
        "id": "517746ee9cf6358",
        "outputId": "ddeb35a6-97b4-43e6-c312-17a0fc478ea6"
      },
      "cell_type": "code",
      "outputs": [
        {
          "output_type": "stream",
          "name": "stdout",
          "text": [
            "Reloading Tuner from /content/drive/My Drive/Colab Notebooks/rsna-intercranial-aneurysm-detection/data_gen_2/tuner_results/e1/tuner0.json\n"
          ]
        }
      ],
      "execution_count": 14,
      "source": [
        "tuner_results_folder = data_gen_folder + 'tuner_results'\n",
        "experiment_name = 'e1'\n",
        "\n",
        "tuner = Hyperband(\n",
        "    build_model,                          # your model-building function\n",
        "    objective='val_loss',                 # what to optimize\n",
        "    max_epochs=40,                        # maximum epochs for top models\n",
        "    factor=3,                             # reduction factor per bracket\n",
        "    hyperband_iterations=2,               # how many full Hyperband rounds\n",
        "    seed=42,\n",
        "    directory=tuner_results_folder,\n",
        "    project_name=experiment_name,\n",
        ")"
      ],
      "id": "517746ee9cf6358"
    },
    {
      "cell_type": "code",
      "source": [
        "best_model_in_brain = tuner.hypermodel.build(tuner.oracle.get_trial('0067').hyperparameters)\n",
        "best_model_in_brain.summary()"
      ],
      "metadata": {
        "id": "otbdzRRJbMTM",
        "outputId": "1bb89475-ffec-48af-aed3-af95ab1aa3f1",
        "colab": {
          "base_uri": "https://localhost:8080/",
          "height": 753
        }
      },
      "id": "otbdzRRJbMTM",
      "execution_count": 22,
      "outputs": [
        {
          "output_type": "display_data",
          "data": {
            "text/plain": [
              "\u001b[1mModel: \"functional\"\u001b[0m\n"
            ],
            "text/html": [
              "<pre style=\"white-space:pre;overflow-x:auto;line-height:normal;font-family:Menlo,'DejaVu Sans Mono',consolas,'Courier New',monospace\"><span style=\"font-weight: bold\">Model: \"functional\"</span>\n",
              "</pre>\n"
            ]
          },
          "metadata": {}
        },
        {
          "output_type": "display_data",
          "data": {
            "text/plain": [
              "┏━━━━━━━━━━━━━━━━━━━━━━━━━━━━━━━━━┳━━━━━━━━━━━━━━━━━━━━━━━━┳━━━━━━━━━━━━━━━┓\n",
              "┃\u001b[1m \u001b[0m\u001b[1mLayer (type)                   \u001b[0m\u001b[1m \u001b[0m┃\u001b[1m \u001b[0m\u001b[1mOutput Shape          \u001b[0m\u001b[1m \u001b[0m┃\u001b[1m \u001b[0m\u001b[1m      Param #\u001b[0m\u001b[1m \u001b[0m┃\n",
              "┡━━━━━━━━━━━━━━━━━━━━━━━━━━━━━━━━━╇━━━━━━━━━━━━━━━━━━━━━━━━╇━━━━━━━━━━━━━━━┩\n",
              "│ input_layer_1 (\u001b[38;5;33mInputLayer\u001b[0m)      │ (\u001b[38;5;45mNone\u001b[0m, \u001b[38;5;34m512\u001b[0m, \u001b[38;5;34m512\u001b[0m, \u001b[38;5;34m1\u001b[0m)    │             \u001b[38;5;34m0\u001b[0m │\n",
              "├─────────────────────────────────┼────────────────────────┼───────────────┤\n",
              "│ conv2d (\u001b[38;5;33mConv2D\u001b[0m)                 │ (\u001b[38;5;45mNone\u001b[0m, \u001b[38;5;34m512\u001b[0m, \u001b[38;5;34m512\u001b[0m, \u001b[38;5;34m64\u001b[0m)   │           \u001b[38;5;34m640\u001b[0m │\n",
              "├─────────────────────────────────┼────────────────────────┼───────────────┤\n",
              "│ max_pooling2d (\u001b[38;5;33mMaxPooling2D\u001b[0m)    │ (\u001b[38;5;45mNone\u001b[0m, \u001b[38;5;34m256\u001b[0m, \u001b[38;5;34m256\u001b[0m, \u001b[38;5;34m64\u001b[0m)   │             \u001b[38;5;34m0\u001b[0m │\n",
              "├─────────────────────────────────┼────────────────────────┼───────────────┤\n",
              "│ conv2d_1 (\u001b[38;5;33mConv2D\u001b[0m)               │ (\u001b[38;5;45mNone\u001b[0m, \u001b[38;5;34m256\u001b[0m, \u001b[38;5;34m256\u001b[0m, \u001b[38;5;34m128\u001b[0m)  │       \u001b[38;5;34m204,928\u001b[0m │\n",
              "├─────────────────────────────────┼────────────────────────┼───────────────┤\n",
              "│ max_pooling2d_1 (\u001b[38;5;33mMaxPooling2D\u001b[0m)  │ (\u001b[38;5;45mNone\u001b[0m, \u001b[38;5;34m128\u001b[0m, \u001b[38;5;34m128\u001b[0m, \u001b[38;5;34m128\u001b[0m)  │             \u001b[38;5;34m0\u001b[0m │\n",
              "├─────────────────────────────────┼────────────────────────┼───────────────┤\n",
              "│ conv2d_2 (\u001b[38;5;33mConv2D\u001b[0m)               │ (\u001b[38;5;45mNone\u001b[0m, \u001b[38;5;34m128\u001b[0m, \u001b[38;5;34m128\u001b[0m, \u001b[38;5;34m192\u001b[0m)  │       \u001b[38;5;34m221,184\u001b[0m │\n",
              "├─────────────────────────────────┼────────────────────────┼───────────────┤\n",
              "│ batch_normalization             │ (\u001b[38;5;45mNone\u001b[0m, \u001b[38;5;34m128\u001b[0m, \u001b[38;5;34m128\u001b[0m, \u001b[38;5;34m192\u001b[0m)  │           \u001b[38;5;34m768\u001b[0m │\n",
              "│ (\u001b[38;5;33mBatchNormalization\u001b[0m)            │                        │               │\n",
              "├─────────────────────────────────┼────────────────────────┼───────────────┤\n",
              "│ activation (\u001b[38;5;33mActivation\u001b[0m)         │ (\u001b[38;5;45mNone\u001b[0m, \u001b[38;5;34m128\u001b[0m, \u001b[38;5;34m128\u001b[0m, \u001b[38;5;34m192\u001b[0m)  │             \u001b[38;5;34m0\u001b[0m │\n",
              "├─────────────────────────────────┼────────────────────────┼───────────────┤\n",
              "│ max_pooling2d_2 (\u001b[38;5;33mMaxPooling2D\u001b[0m)  │ (\u001b[38;5;45mNone\u001b[0m, \u001b[38;5;34m64\u001b[0m, \u001b[38;5;34m64\u001b[0m, \u001b[38;5;34m192\u001b[0m)    │             \u001b[38;5;34m0\u001b[0m │\n",
              "├─────────────────────────────────┼────────────────────────┼───────────────┤\n",
              "│ dropout (\u001b[38;5;33mDropout\u001b[0m)               │ (\u001b[38;5;45mNone\u001b[0m, \u001b[38;5;34m64\u001b[0m, \u001b[38;5;34m64\u001b[0m, \u001b[38;5;34m192\u001b[0m)    │             \u001b[38;5;34m0\u001b[0m │\n",
              "├─────────────────────────────────┼────────────────────────┼───────────────┤\n",
              "│ conv2d_3 (\u001b[38;5;33mConv2D\u001b[0m)               │ (\u001b[38;5;45mNone\u001b[0m, \u001b[38;5;34m64\u001b[0m, \u001b[38;5;34m64\u001b[0m, \u001b[38;5;34m256\u001b[0m)    │       \u001b[38;5;34m442,624\u001b[0m │\n",
              "├─────────────────────────────────┼────────────────────────┼───────────────┤\n",
              "│ max_pooling2d_3 (\u001b[38;5;33mMaxPooling2D\u001b[0m)  │ (\u001b[38;5;45mNone\u001b[0m, \u001b[38;5;34m32\u001b[0m, \u001b[38;5;34m32\u001b[0m, \u001b[38;5;34m256\u001b[0m)    │             \u001b[38;5;34m0\u001b[0m │\n",
              "├─────────────────────────────────┼────────────────────────┼───────────────┤\n",
              "│ conv2d_4 (\u001b[38;5;33mConv2D\u001b[0m)               │ (\u001b[38;5;45mNone\u001b[0m, \u001b[38;5;34m32\u001b[0m, \u001b[38;5;34m32\u001b[0m, \u001b[38;5;34m256\u001b[0m)    │       \u001b[38;5;34m589,824\u001b[0m │\n",
              "├─────────────────────────────────┼────────────────────────┼───────────────┤\n",
              "│ batch_normalization_1           │ (\u001b[38;5;45mNone\u001b[0m, \u001b[38;5;34m32\u001b[0m, \u001b[38;5;34m32\u001b[0m, \u001b[38;5;34m256\u001b[0m)    │         \u001b[38;5;34m1,024\u001b[0m │\n",
              "│ (\u001b[38;5;33mBatchNormalization\u001b[0m)            │                        │               │\n",
              "├─────────────────────────────────┼────────────────────────┼───────────────┤\n",
              "│ activation_1 (\u001b[38;5;33mActivation\u001b[0m)       │ (\u001b[38;5;45mNone\u001b[0m, \u001b[38;5;34m32\u001b[0m, \u001b[38;5;34m32\u001b[0m, \u001b[38;5;34m256\u001b[0m)    │             \u001b[38;5;34m0\u001b[0m │\n",
              "├─────────────────────────────────┼────────────────────────┼───────────────┤\n",
              "│ global_average_pooling2d        │ (\u001b[38;5;45mNone\u001b[0m, \u001b[38;5;34m256\u001b[0m)            │             \u001b[38;5;34m0\u001b[0m │\n",
              "│ (\u001b[38;5;33mGlobalAveragePooling2D\u001b[0m)        │                        │               │\n",
              "├─────────────────────────────────┼────────────────────────┼───────────────┤\n",
              "│ dropout_1 (\u001b[38;5;33mDropout\u001b[0m)             │ (\u001b[38;5;45mNone\u001b[0m, \u001b[38;5;34m256\u001b[0m)            │             \u001b[38;5;34m0\u001b[0m │\n",
              "├─────────────────────────────────┼────────────────────────┼───────────────┤\n",
              "│ dense (\u001b[38;5;33mDense\u001b[0m)                   │ (\u001b[38;5;45mNone\u001b[0m, \u001b[38;5;34m1\u001b[0m)              │           \u001b[38;5;34m257\u001b[0m │\n",
              "└─────────────────────────────────┴────────────────────────┴───────────────┘\n"
            ],
            "text/html": [
              "<pre style=\"white-space:pre;overflow-x:auto;line-height:normal;font-family:Menlo,'DejaVu Sans Mono',consolas,'Courier New',monospace\">┏━━━━━━━━━━━━━━━━━━━━━━━━━━━━━━━━━┳━━━━━━━━━━━━━━━━━━━━━━━━┳━━━━━━━━━━━━━━━┓\n",
              "┃<span style=\"font-weight: bold\"> Layer (type)                    </span>┃<span style=\"font-weight: bold\"> Output Shape           </span>┃<span style=\"font-weight: bold\">       Param # </span>┃\n",
              "┡━━━━━━━━━━━━━━━━━━━━━━━━━━━━━━━━━╇━━━━━━━━━━━━━━━━━━━━━━━━╇━━━━━━━━━━━━━━━┩\n",
              "│ input_layer_1 (<span style=\"color: #0087ff; text-decoration-color: #0087ff\">InputLayer</span>)      │ (<span style=\"color: #00d7ff; text-decoration-color: #00d7ff\">None</span>, <span style=\"color: #00af00; text-decoration-color: #00af00\">512</span>, <span style=\"color: #00af00; text-decoration-color: #00af00\">512</span>, <span style=\"color: #00af00; text-decoration-color: #00af00\">1</span>)    │             <span style=\"color: #00af00; text-decoration-color: #00af00\">0</span> │\n",
              "├─────────────────────────────────┼────────────────────────┼───────────────┤\n",
              "│ conv2d (<span style=\"color: #0087ff; text-decoration-color: #0087ff\">Conv2D</span>)                 │ (<span style=\"color: #00d7ff; text-decoration-color: #00d7ff\">None</span>, <span style=\"color: #00af00; text-decoration-color: #00af00\">512</span>, <span style=\"color: #00af00; text-decoration-color: #00af00\">512</span>, <span style=\"color: #00af00; text-decoration-color: #00af00\">64</span>)   │           <span style=\"color: #00af00; text-decoration-color: #00af00\">640</span> │\n",
              "├─────────────────────────────────┼────────────────────────┼───────────────┤\n",
              "│ max_pooling2d (<span style=\"color: #0087ff; text-decoration-color: #0087ff\">MaxPooling2D</span>)    │ (<span style=\"color: #00d7ff; text-decoration-color: #00d7ff\">None</span>, <span style=\"color: #00af00; text-decoration-color: #00af00\">256</span>, <span style=\"color: #00af00; text-decoration-color: #00af00\">256</span>, <span style=\"color: #00af00; text-decoration-color: #00af00\">64</span>)   │             <span style=\"color: #00af00; text-decoration-color: #00af00\">0</span> │\n",
              "├─────────────────────────────────┼────────────────────────┼───────────────┤\n",
              "│ conv2d_1 (<span style=\"color: #0087ff; text-decoration-color: #0087ff\">Conv2D</span>)               │ (<span style=\"color: #00d7ff; text-decoration-color: #00d7ff\">None</span>, <span style=\"color: #00af00; text-decoration-color: #00af00\">256</span>, <span style=\"color: #00af00; text-decoration-color: #00af00\">256</span>, <span style=\"color: #00af00; text-decoration-color: #00af00\">128</span>)  │       <span style=\"color: #00af00; text-decoration-color: #00af00\">204,928</span> │\n",
              "├─────────────────────────────────┼────────────────────────┼───────────────┤\n",
              "│ max_pooling2d_1 (<span style=\"color: #0087ff; text-decoration-color: #0087ff\">MaxPooling2D</span>)  │ (<span style=\"color: #00d7ff; text-decoration-color: #00d7ff\">None</span>, <span style=\"color: #00af00; text-decoration-color: #00af00\">128</span>, <span style=\"color: #00af00; text-decoration-color: #00af00\">128</span>, <span style=\"color: #00af00; text-decoration-color: #00af00\">128</span>)  │             <span style=\"color: #00af00; text-decoration-color: #00af00\">0</span> │\n",
              "├─────────────────────────────────┼────────────────────────┼───────────────┤\n",
              "│ conv2d_2 (<span style=\"color: #0087ff; text-decoration-color: #0087ff\">Conv2D</span>)               │ (<span style=\"color: #00d7ff; text-decoration-color: #00d7ff\">None</span>, <span style=\"color: #00af00; text-decoration-color: #00af00\">128</span>, <span style=\"color: #00af00; text-decoration-color: #00af00\">128</span>, <span style=\"color: #00af00; text-decoration-color: #00af00\">192</span>)  │       <span style=\"color: #00af00; text-decoration-color: #00af00\">221,184</span> │\n",
              "├─────────────────────────────────┼────────────────────────┼───────────────┤\n",
              "│ batch_normalization             │ (<span style=\"color: #00d7ff; text-decoration-color: #00d7ff\">None</span>, <span style=\"color: #00af00; text-decoration-color: #00af00\">128</span>, <span style=\"color: #00af00; text-decoration-color: #00af00\">128</span>, <span style=\"color: #00af00; text-decoration-color: #00af00\">192</span>)  │           <span style=\"color: #00af00; text-decoration-color: #00af00\">768</span> │\n",
              "│ (<span style=\"color: #0087ff; text-decoration-color: #0087ff\">BatchNormalization</span>)            │                        │               │\n",
              "├─────────────────────────────────┼────────────────────────┼───────────────┤\n",
              "│ activation (<span style=\"color: #0087ff; text-decoration-color: #0087ff\">Activation</span>)         │ (<span style=\"color: #00d7ff; text-decoration-color: #00d7ff\">None</span>, <span style=\"color: #00af00; text-decoration-color: #00af00\">128</span>, <span style=\"color: #00af00; text-decoration-color: #00af00\">128</span>, <span style=\"color: #00af00; text-decoration-color: #00af00\">192</span>)  │             <span style=\"color: #00af00; text-decoration-color: #00af00\">0</span> │\n",
              "├─────────────────────────────────┼────────────────────────┼───────────────┤\n",
              "│ max_pooling2d_2 (<span style=\"color: #0087ff; text-decoration-color: #0087ff\">MaxPooling2D</span>)  │ (<span style=\"color: #00d7ff; text-decoration-color: #00d7ff\">None</span>, <span style=\"color: #00af00; text-decoration-color: #00af00\">64</span>, <span style=\"color: #00af00; text-decoration-color: #00af00\">64</span>, <span style=\"color: #00af00; text-decoration-color: #00af00\">192</span>)    │             <span style=\"color: #00af00; text-decoration-color: #00af00\">0</span> │\n",
              "├─────────────────────────────────┼────────────────────────┼───────────────┤\n",
              "│ dropout (<span style=\"color: #0087ff; text-decoration-color: #0087ff\">Dropout</span>)               │ (<span style=\"color: #00d7ff; text-decoration-color: #00d7ff\">None</span>, <span style=\"color: #00af00; text-decoration-color: #00af00\">64</span>, <span style=\"color: #00af00; text-decoration-color: #00af00\">64</span>, <span style=\"color: #00af00; text-decoration-color: #00af00\">192</span>)    │             <span style=\"color: #00af00; text-decoration-color: #00af00\">0</span> │\n",
              "├─────────────────────────────────┼────────────────────────┼───────────────┤\n",
              "│ conv2d_3 (<span style=\"color: #0087ff; text-decoration-color: #0087ff\">Conv2D</span>)               │ (<span style=\"color: #00d7ff; text-decoration-color: #00d7ff\">None</span>, <span style=\"color: #00af00; text-decoration-color: #00af00\">64</span>, <span style=\"color: #00af00; text-decoration-color: #00af00\">64</span>, <span style=\"color: #00af00; text-decoration-color: #00af00\">256</span>)    │       <span style=\"color: #00af00; text-decoration-color: #00af00\">442,624</span> │\n",
              "├─────────────────────────────────┼────────────────────────┼───────────────┤\n",
              "│ max_pooling2d_3 (<span style=\"color: #0087ff; text-decoration-color: #0087ff\">MaxPooling2D</span>)  │ (<span style=\"color: #00d7ff; text-decoration-color: #00d7ff\">None</span>, <span style=\"color: #00af00; text-decoration-color: #00af00\">32</span>, <span style=\"color: #00af00; text-decoration-color: #00af00\">32</span>, <span style=\"color: #00af00; text-decoration-color: #00af00\">256</span>)    │             <span style=\"color: #00af00; text-decoration-color: #00af00\">0</span> │\n",
              "├─────────────────────────────────┼────────────────────────┼───────────────┤\n",
              "│ conv2d_4 (<span style=\"color: #0087ff; text-decoration-color: #0087ff\">Conv2D</span>)               │ (<span style=\"color: #00d7ff; text-decoration-color: #00d7ff\">None</span>, <span style=\"color: #00af00; text-decoration-color: #00af00\">32</span>, <span style=\"color: #00af00; text-decoration-color: #00af00\">32</span>, <span style=\"color: #00af00; text-decoration-color: #00af00\">256</span>)    │       <span style=\"color: #00af00; text-decoration-color: #00af00\">589,824</span> │\n",
              "├─────────────────────────────────┼────────────────────────┼───────────────┤\n",
              "│ batch_normalization_1           │ (<span style=\"color: #00d7ff; text-decoration-color: #00d7ff\">None</span>, <span style=\"color: #00af00; text-decoration-color: #00af00\">32</span>, <span style=\"color: #00af00; text-decoration-color: #00af00\">32</span>, <span style=\"color: #00af00; text-decoration-color: #00af00\">256</span>)    │         <span style=\"color: #00af00; text-decoration-color: #00af00\">1,024</span> │\n",
              "│ (<span style=\"color: #0087ff; text-decoration-color: #0087ff\">BatchNormalization</span>)            │                        │               │\n",
              "├─────────────────────────────────┼────────────────────────┼───────────────┤\n",
              "│ activation_1 (<span style=\"color: #0087ff; text-decoration-color: #0087ff\">Activation</span>)       │ (<span style=\"color: #00d7ff; text-decoration-color: #00d7ff\">None</span>, <span style=\"color: #00af00; text-decoration-color: #00af00\">32</span>, <span style=\"color: #00af00; text-decoration-color: #00af00\">32</span>, <span style=\"color: #00af00; text-decoration-color: #00af00\">256</span>)    │             <span style=\"color: #00af00; text-decoration-color: #00af00\">0</span> │\n",
              "├─────────────────────────────────┼────────────────────────┼───────────────┤\n",
              "│ global_average_pooling2d        │ (<span style=\"color: #00d7ff; text-decoration-color: #00d7ff\">None</span>, <span style=\"color: #00af00; text-decoration-color: #00af00\">256</span>)            │             <span style=\"color: #00af00; text-decoration-color: #00af00\">0</span> │\n",
              "│ (<span style=\"color: #0087ff; text-decoration-color: #0087ff\">GlobalAveragePooling2D</span>)        │                        │               │\n",
              "├─────────────────────────────────┼────────────────────────┼───────────────┤\n",
              "│ dropout_1 (<span style=\"color: #0087ff; text-decoration-color: #0087ff\">Dropout</span>)             │ (<span style=\"color: #00d7ff; text-decoration-color: #00d7ff\">None</span>, <span style=\"color: #00af00; text-decoration-color: #00af00\">256</span>)            │             <span style=\"color: #00af00; text-decoration-color: #00af00\">0</span> │\n",
              "├─────────────────────────────────┼────────────────────────┼───────────────┤\n",
              "│ dense (<span style=\"color: #0087ff; text-decoration-color: #0087ff\">Dense</span>)                   │ (<span style=\"color: #00d7ff; text-decoration-color: #00d7ff\">None</span>, <span style=\"color: #00af00; text-decoration-color: #00af00\">1</span>)              │           <span style=\"color: #00af00; text-decoration-color: #00af00\">257</span> │\n",
              "└─────────────────────────────────┴────────────────────────┴───────────────┘\n",
              "</pre>\n"
            ]
          },
          "metadata": {}
        },
        {
          "output_type": "display_data",
          "data": {
            "text/plain": [
              "\u001b[1m Total params: \u001b[0m\u001b[38;5;34m1,461,249\u001b[0m (5.57 MB)\n"
            ],
            "text/html": [
              "<pre style=\"white-space:pre;overflow-x:auto;line-height:normal;font-family:Menlo,'DejaVu Sans Mono',consolas,'Courier New',monospace\"><span style=\"font-weight: bold\"> Total params: </span><span style=\"color: #00af00; text-decoration-color: #00af00\">1,461,249</span> (5.57 MB)\n",
              "</pre>\n"
            ]
          },
          "metadata": {}
        },
        {
          "output_type": "display_data",
          "data": {
            "text/plain": [
              "\u001b[1m Trainable params: \u001b[0m\u001b[38;5;34m1,460,353\u001b[0m (5.57 MB)\n"
            ],
            "text/html": [
              "<pre style=\"white-space:pre;overflow-x:auto;line-height:normal;font-family:Menlo,'DejaVu Sans Mono',consolas,'Courier New',monospace\"><span style=\"font-weight: bold\"> Trainable params: </span><span style=\"color: #00af00; text-decoration-color: #00af00\">1,460,353</span> (5.57 MB)\n",
              "</pre>\n"
            ]
          },
          "metadata": {}
        },
        {
          "output_type": "display_data",
          "data": {
            "text/plain": [
              "\u001b[1m Non-trainable params: \u001b[0m\u001b[38;5;34m896\u001b[0m (3.50 KB)\n"
            ],
            "text/html": [
              "<pre style=\"white-space:pre;overflow-x:auto;line-height:normal;font-family:Menlo,'DejaVu Sans Mono',consolas,'Courier New',monospace\"><span style=\"font-weight: bold\"> Non-trainable params: </span><span style=\"color: #00af00; text-decoration-color: #00af00\">896</span> (3.50 KB)\n",
              "</pre>\n"
            ]
          },
          "metadata": {}
        }
      ]
    },
    {
      "cell_type": "code",
      "source": [
        "stop_early = EarlyStopping(monitor='val_loss', patience=15, restore_best_weights=True)\n",
        "\n",
        "history = best_model_in_brain.fit(\n",
        "    train_in_brain_ds,\n",
        "    validation_data=val_in_brain_ds,\n",
        "    epochs=75,\n",
        "    callbacks=[stop_early],\n",
        ")\n",
        "\n",
        "in_brain_history_path = data_gen_folder + 'in_brain_history.txt'\n",
        "in_brain_model_path = data_gen_folder + 'in_brain_model.keras'\n",
        "\n",
        "best_model_in_brain.save(in_brain_model_path)\n",
        "with open(in_brain_history_path, 'w', encoding='utf-8') as file:\n",
        "    json.dump(history.history, file, indent=4, ensure_ascii=False)"
      ],
      "metadata": {
        "id": "RJRiOnRaZoUa",
        "outputId": "138c3222-0983-4b34-aad7-30f932c553ad",
        "colab": {
          "base_uri": "https://localhost:8080/"
        }
      },
      "id": "RJRiOnRaZoUa",
      "execution_count": 23,
      "outputs": [
        {
          "output_type": "stream",
          "name": "stdout",
          "text": [
            "Epoch 1/75\n",
            "\u001b[1m603/603\u001b[0m \u001b[32m━━━━━━━━━━━━━━━━━━━━\u001b[0m\u001b[37m\u001b[0m \u001b[1m138s\u001b[0m 167ms/step - binary_accuracy: 0.5211 - loss: 0.7363 - precision: 0.5038 - recall: 0.4783 - val_binary_accuracy: 0.5564 - val_loss: 0.6841 - val_precision: 0.5335 - val_recall: 0.6703\n",
            "Epoch 2/75\n",
            "\u001b[1m603/603\u001b[0m \u001b[32m━━━━━━━━━━━━━━━━━━━━\u001b[0m\u001b[37m\u001b[0m \u001b[1m66s\u001b[0m 110ms/step - binary_accuracy: 0.5637 - loss: 0.6888 - precision: 0.5545 - recall: 0.4833 - val_binary_accuracy: 0.6080 - val_loss: 0.6712 - val_precision: 0.5757 - val_recall: 0.7261\n",
            "Epoch 3/75\n",
            "\u001b[1m603/603\u001b[0m \u001b[32m━━━━━━━━━━━━━━━━━━━━\u001b[0m\u001b[37m\u001b[0m \u001b[1m66s\u001b[0m 110ms/step - binary_accuracy: 0.5753 - loss: 0.6790 - precision: 0.5684 - recall: 0.4938 - val_binary_accuracy: 0.5989 - val_loss: 0.6763 - val_precision: 0.5631 - val_recall: 0.7679\n",
            "Epoch 4/75\n",
            "\u001b[1m603/603\u001b[0m \u001b[32m━━━━━━━━━━━━━━━━━━━━\u001b[0m\u001b[37m\u001b[0m \u001b[1m66s\u001b[0m 110ms/step - binary_accuracy: 0.5887 - loss: 0.6713 - precision: 0.5824 - recall: 0.5186 - val_binary_accuracy: 0.5807 - val_loss: 0.6772 - val_precision: 0.5438 - val_recall: 0.8345\n",
            "Epoch 5/75\n",
            "\u001b[1m603/603\u001b[0m \u001b[32m━━━━━━━━━━━━━━━━━━━━\u001b[0m\u001b[37m\u001b[0m \u001b[1m66s\u001b[0m 110ms/step - binary_accuracy: 0.5937 - loss: 0.6670 - precision: 0.5875 - recall: 0.5272 - val_binary_accuracy: 0.5819 - val_loss: 0.6842 - val_precision: 0.5453 - val_recall: 0.8242\n",
            "Epoch 6/75\n",
            "\u001b[1m603/603\u001b[0m \u001b[32m━━━━━━━━━━━━━━━━━━━━\u001b[0m\u001b[37m\u001b[0m \u001b[1m66s\u001b[0m 110ms/step - binary_accuracy: 0.6014 - loss: 0.6639 - precision: 0.5960 - recall: 0.5372 - val_binary_accuracy: 0.5526 - val_loss: 0.6917 - val_precision: 0.5214 - val_recall: 0.9297\n",
            "Epoch 7/75\n",
            "\u001b[1m603/603\u001b[0m \u001b[32m━━━━━━━━━━━━━━━━━━━━\u001b[0m\u001b[37m\u001b[0m \u001b[1m66s\u001b[0m 110ms/step - binary_accuracy: 0.6131 - loss: 0.6587 - precision: 0.6073 - recall: 0.5584 - val_binary_accuracy: 0.5678 - val_loss: 0.6889 - val_precision: 0.5309 - val_recall: 0.9255\n",
            "Epoch 8/75\n",
            "\u001b[1m603/603\u001b[0m \u001b[32m━━━━━━━━━━━━━━━━━━━━\u001b[0m\u001b[37m\u001b[0m \u001b[1m66s\u001b[0m 110ms/step - binary_accuracy: 0.6140 - loss: 0.6546 - precision: 0.6093 - recall: 0.5554 - val_binary_accuracy: 0.5799 - val_loss: 0.6693 - val_precision: 0.5395 - val_recall: 0.9073\n",
            "Epoch 9/75\n",
            "\u001b[1m603/603\u001b[0m \u001b[32m━━━━━━━━━━━━━━━━━━━━\u001b[0m\u001b[37m\u001b[0m \u001b[1m66s\u001b[0m 109ms/step - binary_accuracy: 0.6197 - loss: 0.6498 - precision: 0.6150 - recall: 0.5643 - val_binary_accuracy: 0.6051 - val_loss: 0.6623 - val_precision: 0.5632 - val_recall: 0.8236\n",
            "Epoch 10/75\n",
            "\u001b[1m603/603\u001b[0m \u001b[32m━━━━━━━━━━━━━━━━━━━━\u001b[0m\u001b[37m\u001b[0m \u001b[1m66s\u001b[0m 110ms/step - binary_accuracy: 0.6210 - loss: 0.6471 - precision: 0.6145 - recall: 0.5738 - val_binary_accuracy: 0.6130 - val_loss: 0.6473 - val_precision: 0.5839 - val_recall: 0.7000\n",
            "Epoch 11/75\n",
            "\u001b[1m603/603\u001b[0m \u001b[32m━━━━━━━━━━━━━━━━━━━━\u001b[0m\u001b[37m\u001b[0m \u001b[1m66s\u001b[0m 110ms/step - binary_accuracy: 0.6346 - loss: 0.6401 - precision: 0.6296 - recall: 0.5877 - val_binary_accuracy: 0.6324 - val_loss: 0.6408 - val_precision: 0.6070 - val_recall: 0.6842\n",
            "Epoch 12/75\n",
            "\u001b[1m603/603\u001b[0m \u001b[32m━━━━━━━━━━━━━━━━━━━━\u001b[0m\u001b[37m\u001b[0m \u001b[1m66s\u001b[0m 110ms/step - binary_accuracy: 0.6338 - loss: 0.6380 - precision: 0.6274 - recall: 0.5919 - val_binary_accuracy: 0.6295 - val_loss: 0.6397 - val_precision: 0.6156 - val_recall: 0.6261\n",
            "Epoch 13/75\n",
            "\u001b[1m603/603\u001b[0m \u001b[32m━━━━━━━━━━━━━━━━━━━━\u001b[0m\u001b[37m\u001b[0m \u001b[1m66s\u001b[0m 110ms/step - binary_accuracy: 0.6362 - loss: 0.6350 - precision: 0.6305 - recall: 0.5925 - val_binary_accuracy: 0.6136 - val_loss: 0.6496 - val_precision: 0.5738 - val_recall: 0.7873\n",
            "Epoch 14/75\n",
            "\u001b[1m603/603\u001b[0m \u001b[32m━━━━━━━━━━━━━━━━━━━━\u001b[0m\u001b[37m\u001b[0m \u001b[1m66s\u001b[0m 110ms/step - binary_accuracy: 0.6409 - loss: 0.6316 - precision: 0.6343 - recall: 0.6022 - val_binary_accuracy: 0.6315 - val_loss: 0.6427 - val_precision: 0.6011 - val_recall: 0.7115\n",
            "Epoch 15/75\n",
            "\u001b[1m603/603\u001b[0m \u001b[32m━━━━━━━━━━━━━━━━━━━━\u001b[0m\u001b[37m\u001b[0m \u001b[1m66s\u001b[0m 110ms/step - binary_accuracy: 0.6481 - loss: 0.6277 - precision: 0.6439 - recall: 0.6039 - val_binary_accuracy: 0.5957 - val_loss: 0.6563 - val_precision: 0.5545 - val_recall: 0.8418\n",
            "Epoch 16/75\n",
            "\u001b[1m603/603\u001b[0m \u001b[32m━━━━━━━━━━━━━━━━━━━━\u001b[0m\u001b[37m\u001b[0m \u001b[1m66s\u001b[0m 110ms/step - binary_accuracy: 0.6507 - loss: 0.6231 - precision: 0.6446 - recall: 0.6141 - val_binary_accuracy: 0.6351 - val_loss: 0.6337 - val_precision: 0.6045 - val_recall: 0.7133\n",
            "Epoch 17/75\n",
            "\u001b[1m603/603\u001b[0m \u001b[32m━━━━━━━━━━━━━━━━━━━━\u001b[0m\u001b[37m\u001b[0m \u001b[1m66s\u001b[0m 110ms/step - binary_accuracy: 0.6509 - loss: 0.6204 - precision: 0.6452 - recall: 0.6129 - val_binary_accuracy: 0.6060 - val_loss: 0.6532 - val_precision: 0.5623 - val_recall: 0.8424\n",
            "Epoch 18/75\n",
            "\u001b[1m603/603\u001b[0m \u001b[32m━━━━━━━━━━━━━━━━━━━━\u001b[0m\u001b[37m\u001b[0m \u001b[1m66s\u001b[0m 110ms/step - binary_accuracy: 0.6611 - loss: 0.6162 - precision: 0.6556 - recall: 0.6257 - val_binary_accuracy: 0.6095 - val_loss: 0.6499 - val_precision: 0.5632 - val_recall: 0.8642\n",
            "Epoch 19/75\n",
            "\u001b[1m603/603\u001b[0m \u001b[32m━━━━━━━━━━━━━━━━━━━━\u001b[0m\u001b[37m\u001b[0m \u001b[1m66s\u001b[0m 110ms/step - binary_accuracy: 0.6654 - loss: 0.6126 - precision: 0.6606 - recall: 0.6289 - val_binary_accuracy: 0.6136 - val_loss: 0.6543 - val_precision: 0.5660 - val_recall: 0.8685\n",
            "Epoch 20/75\n",
            "\u001b[1m603/603\u001b[0m \u001b[32m━━━━━━━━━━━━━━━━━━━━\u001b[0m\u001b[37m\u001b[0m \u001b[1m66s\u001b[0m 110ms/step - binary_accuracy: 0.6691 - loss: 0.6078 - precision: 0.6653 - recall: 0.6311 - val_binary_accuracy: 0.6318 - val_loss: 0.6364 - val_precision: 0.5841 - val_recall: 0.8333\n",
            "Epoch 21/75\n",
            "\u001b[1m603/603\u001b[0m \u001b[32m━━━━━━━━━━━━━━━━━━━━\u001b[0m\u001b[37m\u001b[0m \u001b[1m66s\u001b[0m 110ms/step - binary_accuracy: 0.6723 - loss: 0.6031 - precision: 0.6667 - recall: 0.6401 - val_binary_accuracy: 0.6236 - val_loss: 0.6389 - val_precision: 0.5765 - val_recall: 0.8406\n",
            "Epoch 22/75\n",
            "\u001b[1m603/603\u001b[0m \u001b[32m━━━━━━━━━━━━━━━━━━━━\u001b[0m\u001b[37m\u001b[0m \u001b[1m66s\u001b[0m 110ms/step - binary_accuracy: 0.6748 - loss: 0.5985 - precision: 0.6678 - recall: 0.6474 - val_binary_accuracy: 0.6224 - val_loss: 0.6507 - val_precision: 0.5727 - val_recall: 0.8685\n",
            "Epoch 23/75\n",
            "\u001b[1m603/603\u001b[0m \u001b[32m━━━━━━━━━━━━━━━━━━━━\u001b[0m\u001b[37m\u001b[0m \u001b[1m66s\u001b[0m 110ms/step - binary_accuracy: 0.6811 - loss: 0.5925 - precision: 0.6727 - recall: 0.6592 - val_binary_accuracy: 0.6283 - val_loss: 0.6407 - val_precision: 0.5778 - val_recall: 0.8642\n",
            "Epoch 24/75\n",
            "\u001b[1m603/603\u001b[0m \u001b[32m━━━━━━━━━━━━━━━━━━━━\u001b[0m\u001b[37m\u001b[0m \u001b[1m66s\u001b[0m 110ms/step - binary_accuracy: 0.6826 - loss: 0.5886 - precision: 0.6763 - recall: 0.6551 - val_binary_accuracy: 0.6430 - val_loss: 0.6210 - val_precision: 0.5958 - val_recall: 0.8182\n",
            "Epoch 25/75\n",
            "\u001b[1m603/603\u001b[0m \u001b[32m━━━━━━━━━━━━━━━━━━━━\u001b[0m\u001b[37m\u001b[0m \u001b[1m66s\u001b[0m 110ms/step - binary_accuracy: 0.6861 - loss: 0.5843 - precision: 0.6769 - recall: 0.6673 - val_binary_accuracy: 0.6536 - val_loss: 0.6141 - val_precision: 0.6131 - val_recall: 0.7721\n",
            "Epoch 26/75\n",
            "\u001b[1m603/603\u001b[0m \u001b[32m━━━━━━━━━━━━━━━━━━━━\u001b[0m\u001b[37m\u001b[0m \u001b[1m66s\u001b[0m 110ms/step - binary_accuracy: 0.6908 - loss: 0.5779 - precision: 0.6829 - recall: 0.6695 - val_binary_accuracy: 0.6712 - val_loss: 0.6025 - val_precision: 0.6392 - val_recall: 0.7376\n",
            "Epoch 27/75\n",
            "\u001b[1m603/603\u001b[0m \u001b[32m━━━━━━━━━━━━━━━━━━━━\u001b[0m\u001b[37m\u001b[0m \u001b[1m66s\u001b[0m 110ms/step - binary_accuracy: 0.6998 - loss: 0.5701 - precision: 0.6917 - recall: 0.6806 - val_binary_accuracy: 0.6738 - val_loss: 0.5991 - val_precision: 0.6555 - val_recall: 0.6885\n",
            "Epoch 28/75\n",
            "\u001b[1m603/603\u001b[0m \u001b[32m━━━━━━━━━━━━━━━━━━━━\u001b[0m\u001b[37m\u001b[0m \u001b[1m66s\u001b[0m 110ms/step - binary_accuracy: 0.7006 - loss: 0.5636 - precision: 0.6923 - recall: 0.6821 - val_binary_accuracy: 0.6703 - val_loss: 0.5989 - val_precision: 0.6405 - val_recall: 0.7279\n",
            "Epoch 29/75\n",
            "\u001b[1m603/603\u001b[0m \u001b[32m━━━━━━━━━━━━━━━━━━━━\u001b[0m\u001b[37m\u001b[0m \u001b[1m66s\u001b[0m 110ms/step - binary_accuracy: 0.7090 - loss: 0.5559 - precision: 0.7011 - recall: 0.6908 - val_binary_accuracy: 0.6603 - val_loss: 0.6079 - val_precision: 0.6125 - val_recall: 0.8133\n",
            "Epoch 30/75\n",
            "\u001b[1m603/603\u001b[0m \u001b[32m━━━━━━━━━━━━━━━━━━━━\u001b[0m\u001b[37m\u001b[0m \u001b[1m66s\u001b[0m 110ms/step - binary_accuracy: 0.7181 - loss: 0.5472 - precision: 0.7096 - recall: 0.7029 - val_binary_accuracy: 0.6577 - val_loss: 0.6117 - val_precision: 0.6062 - val_recall: 0.8370\n",
            "Epoch 31/75\n",
            "\u001b[1m603/603\u001b[0m \u001b[32m━━━━━━━━━━━━━━━━━━━━\u001b[0m\u001b[37m\u001b[0m \u001b[1m66s\u001b[0m 110ms/step - binary_accuracy: 0.7163 - loss: 0.5435 - precision: 0.7094 - recall: 0.6969 - val_binary_accuracy: 0.6744 - val_loss: 0.5975 - val_precision: 0.6315 - val_recall: 0.7873\n",
            "Epoch 32/75\n",
            "\u001b[1m603/603\u001b[0m \u001b[32m━━━━━━━━━━━━━━━━━━━━\u001b[0m\u001b[37m\u001b[0m \u001b[1m66s\u001b[0m 110ms/step - binary_accuracy: 0.7289 - loss: 0.5371 - precision: 0.7225 - recall: 0.7107 - val_binary_accuracy: 0.6615 - val_loss: 0.6093 - val_precision: 0.6095 - val_recall: 0.8382\n",
            "Epoch 33/75\n",
            "\u001b[1m603/603\u001b[0m \u001b[32m━━━━━━━━━━━━━━━━━━━━\u001b[0m\u001b[37m\u001b[0m \u001b[1m66s\u001b[0m 110ms/step - binary_accuracy: 0.7376 - loss: 0.5259 - precision: 0.7288 - recall: 0.7259 - val_binary_accuracy: 0.6627 - val_loss: 0.6018 - val_precision: 0.6119 - val_recall: 0.8303\n",
            "Epoch 34/75\n",
            "\u001b[1m603/603\u001b[0m \u001b[32m━━━━━━━━━━━━━━━━━━━━\u001b[0m\u001b[37m\u001b[0m \u001b[1m66s\u001b[0m 110ms/step - binary_accuracy: 0.7382 - loss: 0.5193 - precision: 0.7294 - recall: 0.7264 - val_binary_accuracy: 0.6459 - val_loss: 0.6172 - val_precision: 0.5923 - val_recall: 0.8636\n",
            "Epoch 35/75\n",
            "\u001b[1m603/603\u001b[0m \u001b[32m━━━━━━━━━━━━━━━━━━━━\u001b[0m\u001b[37m\u001b[0m \u001b[1m66s\u001b[0m 110ms/step - binary_accuracy: 0.7462 - loss: 0.5099 - precision: 0.7395 - recall: 0.7310 - val_binary_accuracy: 0.6653 - val_loss: 0.6004 - val_precision: 0.6172 - val_recall: 0.8139\n",
            "Epoch 36/75\n",
            "\u001b[1m603/603\u001b[0m \u001b[32m━━━━━━━━━━━━━━━━━━━━\u001b[0m\u001b[37m\u001b[0m \u001b[1m66s\u001b[0m 110ms/step - binary_accuracy: 0.7505 - loss: 0.5016 - precision: 0.7443 - recall: 0.7349 - val_binary_accuracy: 0.6785 - val_loss: 0.5934 - val_precision: 0.6317 - val_recall: 0.8067\n",
            "Epoch 37/75\n",
            "\u001b[1m603/603\u001b[0m \u001b[32m━━━━━━━━━━━━━━━━━━━━\u001b[0m\u001b[37m\u001b[0m \u001b[1m66s\u001b[0m 110ms/step - binary_accuracy: 0.7528 - loss: 0.4961 - precision: 0.7451 - recall: 0.7406 - val_binary_accuracy: 0.6712 - val_loss: 0.5905 - val_precision: 0.6356 - val_recall: 0.7527\n",
            "Epoch 38/75\n",
            "\u001b[1m603/603\u001b[0m \u001b[32m━━━━━━━━━━━━━━━━━━━━\u001b[0m\u001b[37m\u001b[0m \u001b[1m66s\u001b[0m 110ms/step - binary_accuracy: 0.7599 - loss: 0.4869 - precision: 0.7507 - recall: 0.7515 - val_binary_accuracy: 0.6750 - val_loss: 0.5888 - val_precision: 0.6396 - val_recall: 0.7539\n",
            "Epoch 39/75\n",
            "\u001b[1m603/603\u001b[0m \u001b[32m━━━━━━━━━━━━━━━━━━━━\u001b[0m\u001b[37m\u001b[0m \u001b[1m66s\u001b[0m 110ms/step - binary_accuracy: 0.7704 - loss: 0.4713 - precision: 0.7625 - recall: 0.7606 - val_binary_accuracy: 0.6882 - val_loss: 0.5830 - val_precision: 0.6672 - val_recall: 0.7109\n",
            "Epoch 40/75\n",
            "\u001b[1m603/603\u001b[0m \u001b[32m━━━━━━━━━━━━━━━━━━━━\u001b[0m\u001b[37m\u001b[0m \u001b[1m66s\u001b[0m 110ms/step - binary_accuracy: 0.7706 - loss: 0.4682 - precision: 0.7631 - recall: 0.7603 - val_binary_accuracy: 0.6732 - val_loss: 0.5879 - val_precision: 0.6452 - val_recall: 0.7230\n",
            "Epoch 41/75\n",
            "\u001b[1m603/603\u001b[0m \u001b[32m━━━━━━━━━━━━━━━━━━━━\u001b[0m\u001b[37m\u001b[0m \u001b[1m66s\u001b[0m 110ms/step - binary_accuracy: 0.7849 - loss: 0.4548 - precision: 0.7757 - recall: 0.7789 - val_binary_accuracy: 0.6720 - val_loss: 0.5937 - val_precision: 0.6261 - val_recall: 0.8018\n",
            "Epoch 42/75\n",
            "\u001b[1m603/603\u001b[0m \u001b[32m━━━━━━━━━━━━━━━━━━━━\u001b[0m\u001b[37m\u001b[0m \u001b[1m66s\u001b[0m 110ms/step - binary_accuracy: 0.7920 - loss: 0.4406 - precision: 0.7853 - recall: 0.7825 - val_binary_accuracy: 0.6588 - val_loss: 0.6246 - val_precision: 0.6071 - val_recall: 0.8382\n",
            "Epoch 43/75\n",
            "\u001b[1m603/603\u001b[0m \u001b[32m━━━━━━━━━━━━━━━━━━━━\u001b[0m\u001b[37m\u001b[0m \u001b[1m66s\u001b[0m 110ms/step - binary_accuracy: 0.7869 - loss: 0.4369 - precision: 0.7772 - recall: 0.7824 - val_binary_accuracy: 0.6665 - val_loss: 0.6159 - val_precision: 0.6133 - val_recall: 0.8430\n",
            "Epoch 44/75\n",
            "\u001b[1m603/603\u001b[0m \u001b[32m━━━━━━━━━━━━━━━━━━━━\u001b[0m\u001b[37m\u001b[0m \u001b[1m66s\u001b[0m 110ms/step - binary_accuracy: 0.8006 - loss: 0.4276 - precision: 0.7939 - recall: 0.7918 - val_binary_accuracy: 0.6817 - val_loss: 0.5891 - val_precision: 0.6437 - val_recall: 0.7685\n",
            "Epoch 45/75\n",
            "\u001b[1m603/603\u001b[0m \u001b[32m━━━━━━━━━━━━━━━━━━━━\u001b[0m\u001b[37m\u001b[0m \u001b[1m66s\u001b[0m 110ms/step - binary_accuracy: 0.8014 - loss: 0.4215 - precision: 0.7934 - recall: 0.7950 - val_binary_accuracy: 0.6656 - val_loss: 0.6420 - val_precision: 0.6090 - val_recall: 0.8655\n",
            "Epoch 46/75\n",
            "\u001b[1m603/603\u001b[0m \u001b[32m━━━━━━━━━━━━━━━━━━━━\u001b[0m\u001b[37m\u001b[0m \u001b[1m66s\u001b[0m 110ms/step - binary_accuracy: 0.8125 - loss: 0.4079 - precision: 0.8066 - recall: 0.8039 - val_binary_accuracy: 0.6744 - val_loss: 0.5996 - val_precision: 0.6325 - val_recall: 0.7824\n",
            "Epoch 47/75\n",
            "\u001b[1m603/603\u001b[0m \u001b[32m━━━━━━━━━━━━━━━━━━━━\u001b[0m\u001b[37m\u001b[0m \u001b[1m66s\u001b[0m 110ms/step - binary_accuracy: 0.8154 - loss: 0.3984 - precision: 0.8069 - recall: 0.8115 - val_binary_accuracy: 0.6521 - val_loss: 0.6495 - val_precision: 0.5980 - val_recall: 0.8600\n",
            "Epoch 48/75\n",
            "\u001b[1m603/603\u001b[0m \u001b[32m━━━━━━━━━━━━━━━━━━━━\u001b[0m\u001b[37m\u001b[0m \u001b[1m67s\u001b[0m 110ms/step - binary_accuracy: 0.8219 - loss: 0.3868 - precision: 0.8134 - recall: 0.8184 - val_binary_accuracy: 0.6585 - val_loss: 0.6476 - val_precision: 0.6022 - val_recall: 0.8697\n",
            "Epoch 49/75\n",
            "\u001b[1m603/603\u001b[0m \u001b[32m━━━━━━━━━━━━━━━━━━━━\u001b[0m\u001b[37m\u001b[0m \u001b[1m67s\u001b[0m 110ms/step - binary_accuracy: 0.8286 - loss: 0.3743 - precision: 0.8197 - recall: 0.8263 - val_binary_accuracy: 0.6665 - val_loss: 0.6271 - val_precision: 0.6180 - val_recall: 0.8158\n",
            "Epoch 50/75\n",
            "\u001b[1m603/603\u001b[0m \u001b[32m━━━━━━━━━━━━━━━━━━━━\u001b[0m\u001b[37m\u001b[0m \u001b[1m66s\u001b[0m 110ms/step - binary_accuracy: 0.8326 - loss: 0.3678 - precision: 0.8203 - recall: 0.8359 - val_binary_accuracy: 0.6756 - val_loss: 0.6343 - val_precision: 0.6236 - val_recall: 0.8333\n",
            "Epoch 51/75\n",
            "\u001b[1m603/603\u001b[0m \u001b[32m━━━━━━━━━━━━━━━━━━━━\u001b[0m\u001b[37m\u001b[0m \u001b[1m66s\u001b[0m 110ms/step - binary_accuracy: 0.8391 - loss: 0.3598 - precision: 0.8304 - recall: 0.8374 - val_binary_accuracy: 0.6729 - val_loss: 0.6351 - val_precision: 0.6236 - val_recall: 0.8194\n",
            "Epoch 52/75\n",
            "\u001b[1m603/603\u001b[0m \u001b[32m━━━━━━━━━━━━━━━━━━━━\u001b[0m\u001b[37m\u001b[0m \u001b[1m66s\u001b[0m 110ms/step - binary_accuracy: 0.8366 - loss: 0.3556 - precision: 0.8272 - recall: 0.8355 - val_binary_accuracy: 0.6530 - val_loss: 0.6919 - val_precision: 0.5973 - val_recall: 0.8709\n",
            "Epoch 53/75\n",
            "\u001b[1m603/603\u001b[0m \u001b[32m━━━━━━━━━━━━━━━━━━━━\u001b[0m\u001b[37m\u001b[0m \u001b[1m66s\u001b[0m 110ms/step - binary_accuracy: 0.8446 - loss: 0.3448 - precision: 0.8366 - recall: 0.8421 - val_binary_accuracy: 0.6583 - val_loss: 0.6680 - val_precision: 0.6061 - val_recall: 0.8412\n",
            "Epoch 54/75\n",
            "\u001b[1m603/603\u001b[0m \u001b[32m━━━━━━━━━━━━━━━━━━━━\u001b[0m\u001b[37m\u001b[0m \u001b[1m66s\u001b[0m 110ms/step - binary_accuracy: 0.8474 - loss: 0.3396 - precision: 0.8387 - recall: 0.8463 - val_binary_accuracy: 0.6656 - val_loss: 0.6702 - val_precision: 0.6130 - val_recall: 0.8400\n"
          ]
        }
      ]
    },
    {
      "cell_type": "code",
      "source": [
        "tuner.results_summary(num_trials=5)"
      ],
      "metadata": {
        "id": "434EpVkGXX-3",
        "outputId": "05e225db-3ba4-402a-d962-da2ae8b16e89",
        "colab": {
          "base_uri": "https://localhost:8080/"
        }
      },
      "id": "434EpVkGXX-3",
      "execution_count": 14,
      "outputs": [
        {
          "output_type": "stream",
          "name": "stdout",
          "text": [
            "Results summary\n",
            "Results in /content/drive/My Drive/Colab Notebooks/rsna-intercranial-aneurysm-detection/data_gen_2/tuner_results/e1\n",
            "Showing 5 best trials\n",
            "Objective(name=\"val_loss\", direction=\"min\")\n",
            "\n",
            "Trial 0067 summary\n",
            "Hyperparameters:\n",
            "conv1_filters: 64\n",
            "conv1_kernel: 3\n",
            "conv2_filters: 128\n",
            "conv2_kernel: 5\n",
            "conv3_filters: 192\n",
            "dropout_1: 0.4\n",
            "dropout_2: 0.5\n",
            "optimizer: adam\n",
            "adam_lr: 9.206583038552771e-05\n",
            "rms_lr: 1.688225189917974e-05\n",
            "tuner/epochs: 40\n",
            "tuner/initial_epoch: 14\n",
            "tuner/bracket: 2\n",
            "tuner/round: 2\n",
            "tuner/trial_id: 0064\n",
            "Score: 0.5845618844032288\n",
            "\n",
            "Trial 0044 summary\n",
            "Hyperparameters:\n",
            "conv1_filters: 32\n",
            "conv1_kernel: 3\n",
            "conv2_filters: 128\n",
            "conv2_kernel: 5\n",
            "conv3_filters: 128\n",
            "dropout_1: 0.2\n",
            "dropout_2: 0.4\n",
            "optimizer: adam\n",
            "adam_lr: 0.00020291579511064818\n",
            "rms_lr: 1.1998472287810798e-05\n",
            "tuner/epochs: 14\n",
            "tuner/initial_epoch: 5\n",
            "tuner/bracket: 3\n",
            "tuner/round: 2\n",
            "tuner/trial_id: 0035\n",
            "Score: 0.6209691762924194\n",
            "\n",
            "Trial 0066 summary\n",
            "Hyperparameters:\n",
            "conv1_filters: 16\n",
            "conv1_kernel: 3\n",
            "conv2_filters: 64\n",
            "conv2_kernel: 5\n",
            "conv3_filters: 128\n",
            "dropout_1: 0.4\n",
            "dropout_2: 0.3\n",
            "optimizer: rmsprop\n",
            "adam_lr: 4.417575248265391e-05\n",
            "rms_lr: 0.00017725072524790432\n",
            "tuner/epochs: 40\n",
            "tuner/initial_epoch: 14\n",
            "tuner/bracket: 2\n",
            "tuner/round: 2\n",
            "tuner/trial_id: 0061\n",
            "Score: 0.6261410117149353\n",
            "\n",
            "Trial 0061 summary\n",
            "Hyperparameters:\n",
            "conv1_filters: 16\n",
            "conv1_kernel: 3\n",
            "conv2_filters: 64\n",
            "conv2_kernel: 5\n",
            "conv3_filters: 128\n",
            "dropout_1: 0.4\n",
            "dropout_2: 0.3\n",
            "optimizer: rmsprop\n",
            "adam_lr: 4.417575248265391e-05\n",
            "rms_lr: 0.00017725072524790432\n",
            "tuner/epochs: 14\n",
            "tuner/initial_epoch: 5\n",
            "tuner/bracket: 2\n",
            "tuner/round: 1\n",
            "tuner/trial_id: 0049\n",
            "Score: 0.629048764705658\n",
            "\n",
            "Trial 0064 summary\n",
            "Hyperparameters:\n",
            "conv1_filters: 64\n",
            "conv1_kernel: 3\n",
            "conv2_filters: 128\n",
            "conv2_kernel: 5\n",
            "conv3_filters: 192\n",
            "dropout_1: 0.4\n",
            "dropout_2: 0.5\n",
            "optimizer: adam\n",
            "adam_lr: 9.206583038552771e-05\n",
            "rms_lr: 1.688225189917974e-05\n",
            "tuner/epochs: 14\n",
            "tuner/initial_epoch: 5\n",
            "tuner/bracket: 2\n",
            "tuner/round: 1\n",
            "tuner/trial_id: 0057\n",
            "Score: 0.6290494203567505\n"
          ]
        }
      ]
    },
    {
      "cell_type": "code",
      "source": [
        "best_hps = tuner.get_best_hyperparameters(num_trials=1)[0]\n",
        "best_hps.values"
      ],
      "metadata": {
        "id": "iJX9R7FgXLq3",
        "outputId": "26be0f99-4d6b-499f-9abc-a0b13787fb22",
        "colab": {
          "base_uri": "https://localhost:8080/"
        }
      },
      "id": "iJX9R7FgXLq3",
      "execution_count": 13,
      "outputs": [
        {
          "output_type": "execute_result",
          "data": {
            "text/plain": [
              "{'conv1_filters': 64,\n",
              " 'conv1_kernel': 3,\n",
              " 'conv2_filters': 128,\n",
              " 'conv2_kernel': 5,\n",
              " 'conv3_filters': 192,\n",
              " 'dropout_1': 0.4,\n",
              " 'dropout_2': 0.5,\n",
              " 'optimizer': 'adam',\n",
              " 'adam_lr': 9.206583038552771e-05,\n",
              " 'rms_lr': 1.688225189917974e-05,\n",
              " 'tuner/epochs': 40,\n",
              " 'tuner/initial_epoch': 14,\n",
              " 'tuner/bracket': 2,\n",
              " 'tuner/round': 2,\n",
              " 'tuner/trial_id': '0064'}"
            ]
          },
          "metadata": {},
          "execution_count": 13
        }
      ]
    },
    {
      "cell_type": "code",
      "source": [
        "tuner.oracle.objective.direction"
      ],
      "metadata": {
        "id": "DIYTyBAnYjQA",
        "outputId": "b914a191-fba1-4ca3-efce-1d02f885e05d",
        "colab": {
          "base_uri": "https://localhost:8080/",
          "height": 38
        }
      },
      "id": "DIYTyBAnYjQA",
      "execution_count": 15,
      "outputs": [
        {
          "output_type": "execute_result",
          "data": {
            "text/plain": [
              "'min'"
            ],
            "application/vnd.google.colaboratory.intrinsic+json": {
              "type": "string"
            }
          },
          "metadata": {},
          "execution_count": 15
        }
      ]
    },
    {
      "cell_type": "code",
      "source": [
        "for trial_id, trial in tuner.oracle.trials.items():\n",
        "    print(f\"Trial {trial_id}: score={trial.score}\")"
      ],
      "metadata": {
        "id": "wpaK9UB7Yt-k",
        "outputId": "a6a894d3-26fe-450d-d92f-495dad45a511",
        "colab": {
          "base_uri": "https://localhost:8080/"
        }
      },
      "id": "wpaK9UB7Yt-k",
      "execution_count": 16,
      "outputs": [
        {
          "output_type": "stream",
          "name": "stdout",
          "text": [
            "Trial 0002: score=0.6747527122497559\n",
            "Trial 0001: score=None\n",
            "Trial 0000: score=None\n",
            "Trial 0003: score=0.6698911190032959\n",
            "Trial 0004: score=0.6876376867294312\n",
            "Trial 0005: score=0.670128583908081\n",
            "Trial 0006: score=0.6757144927978516\n",
            "Trial 0007: score=0.6715821623802185\n",
            "Trial 0008: score=0.6804447174072266\n",
            "Trial 0009: score=0.6682254076004028\n",
            "Trial 0010: score=0.6814305186271667\n",
            "Trial 0011: score=0.6813427209854126\n",
            "Trial 0012: score=0.6792925000190735\n",
            "Trial 0013: score=0.6760292053222656\n",
            "Trial 0014: score=0.6732963919639587\n",
            "Trial 0015: score=0.6835648417472839\n",
            "Trial 0016: score=0.6765804886817932\n",
            "Trial 0017: score=0.6760909557342529\n",
            "Trial 0018: score=0.6924036145210266\n",
            "Trial 0019: score=0.6744126081466675\n",
            "Trial 0020: score=0.6845250129699707\n",
            "Trial 0021: score=0.6663077473640442\n",
            "Trial 0022: score=0.6733514070510864\n",
            "Trial 0023: score=0.6984007954597473\n",
            "Trial 0024: score=0.681959331035614\n",
            "Trial 0025: score=0.680156409740448\n",
            "Trial 0026: score=0.6783248782157898\n",
            "Trial 0027: score=0.6687580347061157\n",
            "Trial 0028: score=0.6766661405563354\n",
            "Trial 0029: score=0.6634405851364136\n",
            "Trial 0030: score=0.6866511702537537\n",
            "Trial 0031: score=0.6690895557403564\n",
            "Trial 0032: score=0.6884411573410034\n",
            "Trial 0033: score=0.6726568937301636\n",
            "Trial 0034: score=0.6510615944862366\n",
            "Trial 0035: score=0.6469047665596008\n",
            "Trial 0036: score=0.6639872193336487\n",
            "Trial 0037: score=0.6677950620651245\n",
            "Trial 0038: score=0.6515345573425293\n",
            "Trial 0039: score=0.6586821675300598\n",
            "Trial 0040: score=0.6657302975654602\n",
            "Trial 0041: score=0.6632546782493591\n",
            "Trial 0042: score=0.663894534111023\n",
            "Trial 0043: score=0.6844366788864136\n",
            "Trial 0044: score=0.6209691762924194\n",
            "Trial 0045: score=0.637487530708313\n",
            "Trial 0046: score=0.6741963624954224\n",
            "Trial 0047: score=0.6703242063522339\n",
            "Trial 0048: score=0.6856682896614075\n",
            "Trial 0049: score=0.6480763554573059\n",
            "Trial 0050: score=0.663908839225769\n",
            "Trial 0051: score=0.6856108903884888\n",
            "Trial 0052: score=0.6579405069351196\n",
            "Trial 0053: score=0.654140830039978\n",
            "Trial 0054: score=0.6692156791687012\n",
            "Trial 0055: score=0.6624355316162109\n",
            "Trial 0056: score=0.656349778175354\n",
            "Trial 0057: score=0.6558791399002075\n",
            "Trial 0058: score=0.6689195036888123\n",
            "Trial 0059: score=0.65264493227005\n",
            "Trial 0060: score=0.6583347320556641\n",
            "Trial 0061: score=0.629048764705658\n",
            "Trial 0062: score=0.644995391368866\n",
            "Trial 0063: score=0.6528708338737488\n",
            "Trial 0064: score=0.6290494203567505\n",
            "Trial 0065: score=0.6402991414070129\n",
            "Trial 0066: score=0.6261410117149353\n",
            "Trial 0067: score=0.5845618844032288\n",
            "Trial 0068: score=None\n"
          ]
        }
      ]
    },
    {
      "cell_type": "code",
      "source": [
        "tuner_results_folder = data_gen_folder + 'tuner_results_visible'\n",
        "experiment_name = 'visible_e1'\n",
        "\n",
        "tuner = Hyperband(\n",
        "    build_model,                          # your model-building function\n",
        "    objective='val_loss',                 # what to optimize\n",
        "    max_epochs=40,                        # maximum epochs for top models\n",
        "    factor=4,                             # reduction factor per bracket\n",
        "    hyperband_iterations=1,               # how many full Hyperband rounds\n",
        "    seed=42,\n",
        "    directory=tuner_results_folder,\n",
        "    project_name=experiment_name,\n",
        ")\n",
        "\n",
        "stop_early = EarlyStopping(monitor='val_loss', patience=10)\n",
        "\n",
        "tuner.search(\n",
        "    train_visible_ds,\n",
        "    validation_data=val_visible_ds,\n",
        "    epochs=40,\n",
        "    callbacks=[stop_early],\n",
        ")"
      ],
      "metadata": {
        "id": "0OdsGUfAh0zu",
        "outputId": "551084f8-7c05-4494-f777-66ec6e20a825",
        "colab": {
          "base_uri": "https://localhost:8080/",
          "height": 1000
        }
      },
      "id": "0OdsGUfAh0zu",
      "execution_count": 12,
      "outputs": [
        {
          "output_type": "stream",
          "name": "stdout",
          "text": [
            "Trial 42 Complete [00h 24m 26s]\n",
            "val_loss: 0.21399922668933868\n",
            "\n",
            "Best val_loss So Far: 0.21025902032852173\n",
            "Total elapsed time: 04h 33m 32s\n",
            "\n",
            "Search: Running Trial #43\n",
            "\n",
            "Value             |Best Value So Far |Hyperparameter\n",
            "64                |32                |conv1_filters\n",
            "5                 |3                 |conv1_kernel\n",
            "128               |64                |conv2_filters\n",
            "5                 |5                 |conv2_kernel\n",
            "256               |192               |conv3_filters\n",
            "0.4               |0.4               |dropout_1\n",
            "0.3               |0.5               |dropout_2\n",
            "adam              |adam              |optimizer\n",
            "0.00056757        |0.00032415        |adam_lr\n",
            "0.00034682        |1.2016e-05        |rms_lr\n",
            "40                |40                |tuner/epochs\n",
            "0                 |10                |tuner/initial_epoch\n",
            "0                 |1                 |tuner/bracket\n",
            "0                 |1                 |tuner/round\n",
            "\n",
            "Epoch 1/40\n",
            "\u001b[1m603/603\u001b[0m \u001b[32m━━━━━━━━━━━━━━━━━━━━\u001b[0m\u001b[37m\u001b[0m \u001b[1m93s\u001b[0m 135ms/step - binary_accuracy: 0.8851 - loss: 0.3481 - precision: 0.1519 - recall: 0.0311 - val_binary_accuracy: 0.7877 - val_loss: 0.4265 - val_precision: 0.1347 - val_recall: 0.2101\n",
            "Epoch 2/40\n",
            "\u001b[1m603/603\u001b[0m \u001b[32m━━━━━━━━━━━━━━━━━━━━\u001b[0m\u001b[37m\u001b[0m \u001b[1m71s\u001b[0m 117ms/step - binary_accuracy: 0.8986 - loss: 0.3131 - precision: 0.1894 - recall: 0.0041 - val_binary_accuracy: 0.9008 - val_loss: 0.3226 - val_precision: 0.0000e+00 - val_recall: 0.0000e+00\n",
            "Epoch 3/40\n",
            "\u001b[1m603/603\u001b[0m \u001b[32m━━━━━━━━━━━━━━━━━━━━\u001b[0m\u001b[37m\u001b[0m \u001b[1m70s\u001b[0m 117ms/step - binary_accuracy: 0.8973 - loss: 0.2961 - precision: 0.3118 - recall: 0.0198 - val_binary_accuracy: 0.9005 - val_loss: 0.2717 - val_precision: 0.3333 - val_recall: 0.0030\n",
            "Epoch 4/40\n",
            "\u001b[1m603/603\u001b[0m \u001b[32m━━━━━━━━━━━━━━━━━━━━\u001b[0m\u001b[37m\u001b[0m \u001b[1m69s\u001b[0m 115ms/step - binary_accuracy: 0.8963 - loss: 0.2804 - precision: 0.3664 - recall: 0.0467 - val_binary_accuracy: 0.8978 - val_loss: 0.2816 - val_precision: 0.4167 - val_recall: 0.0740\n",
            "Epoch 5/40\n",
            "\u001b[1m603/603\u001b[0m \u001b[32m━━━━━━━━━━━━━━━━━━━━\u001b[0m\u001b[37m\u001b[0m \u001b[1m70s\u001b[0m 116ms/step - binary_accuracy: 0.8964 - loss: 0.2721 - precision: 0.3962 - recall: 0.0633 - val_binary_accuracy: 0.8984 - val_loss: 0.2685 - val_precision: 0.4444 - val_recall: 0.0947\n",
            "Epoch 6/40\n",
            "\u001b[1m603/603\u001b[0m \u001b[32m━━━━━━━━━━━━━━━━━━━━\u001b[0m\u001b[37m\u001b[0m \u001b[1m70s\u001b[0m 116ms/step - binary_accuracy: 0.8959 - loss: 0.2637 - precision: 0.3974 - recall: 0.0739 - val_binary_accuracy: 0.8958 - val_loss: 0.2601 - val_precision: 0.4286 - val_recall: 0.1509\n",
            "Epoch 7/40\n",
            "\u001b[1m603/603\u001b[0m \u001b[32m━━━━━━━━━━━━━━━━━━━━\u001b[0m\u001b[37m\u001b[0m \u001b[1m70s\u001b[0m 116ms/step - binary_accuracy: 0.8970 - loss: 0.2572 - precision: 0.4412 - recall: 0.1021 - val_binary_accuracy: 0.8996 - val_loss: 0.2492 - val_precision: 0.4474 - val_recall: 0.0503\n",
            "Epoch 8/40\n",
            "\u001b[1m603/603\u001b[0m \u001b[32m━━━━━━━━━━━━━━━━━━━━\u001b[0m\u001b[37m\u001b[0m \u001b[1m70s\u001b[0m 116ms/step - binary_accuracy: 0.8976 - loss: 0.2533 - precision: 0.4591 - recall: 0.1134 - val_binary_accuracy: 0.9025 - val_loss: 0.2445 - val_precision: 0.5500 - val_recall: 0.0976\n",
            "Epoch 9/40\n",
            "\u001b[1m603/603\u001b[0m \u001b[32m━━━━━━━━━━━━━━━━━━━━\u001b[0m\u001b[37m\u001b[0m \u001b[1m69s\u001b[0m 115ms/step - binary_accuracy: 0.8984 - loss: 0.2469 - precision: 0.4772 - recall: 0.1314 - val_binary_accuracy: 0.9014 - val_loss: 0.2610 - val_precision: 0.5417 - val_recall: 0.0385\n",
            "Epoch 10/40\n",
            "\u001b[1m603/603\u001b[0m \u001b[32m━━━━━━━━━━━━━━━━━━━━\u001b[0m\u001b[37m\u001b[0m \u001b[1m70s\u001b[0m 116ms/step - binary_accuracy: 0.8982 - loss: 0.2462 - precision: 0.4766 - recall: 0.1541 - val_binary_accuracy: 0.9011 - val_loss: 0.2417 - val_precision: 0.5143 - val_recall: 0.0533\n",
            "Epoch 11/40\n",
            "\u001b[1m603/603\u001b[0m \u001b[32m━━━━━━━━━━━━━━━━━━━━\u001b[0m\u001b[37m\u001b[0m \u001b[1m70s\u001b[0m 116ms/step - binary_accuracy: 0.8993 - loss: 0.2399 - precision: 0.4939 - recall: 0.1715 - val_binary_accuracy: 0.9028 - val_loss: 0.2351 - val_precision: 0.5745 - val_recall: 0.0799\n",
            "Epoch 12/40\n",
            "\u001b[1m603/603\u001b[0m \u001b[32m━━━━━━━━━━━━━━━━━━━━\u001b[0m\u001b[37m\u001b[0m \u001b[1m70s\u001b[0m 116ms/step - binary_accuracy: 0.9006 - loss: 0.2361 - precision: 0.5129 - recall: 0.1806 - val_binary_accuracy: 0.9031 - val_loss: 0.2231 - val_precision: 0.5606 - val_recall: 0.1095\n",
            "Epoch 13/40\n",
            "\u001b[1m603/603\u001b[0m \u001b[32m━━━━━━━━━━━━━━━━━━━━\u001b[0m\u001b[37m\u001b[0m \u001b[1m69s\u001b[0m 115ms/step - binary_accuracy: 0.9013 - loss: 0.2325 - precision: 0.5203 - recall: 0.2036 - val_binary_accuracy: 0.9019 - val_loss: 0.2350 - val_precision: 0.5476 - val_recall: 0.0680\n",
            "Epoch 14/40\n",
            "\u001b[1m603/603\u001b[0m \u001b[32m━━━━━━━━━━━━━━━━━━━━\u001b[0m\u001b[37m\u001b[0m \u001b[1m70s\u001b[0m 116ms/step - binary_accuracy: 0.8991 - loss: 0.2330 - precision: 0.4946 - recall: 0.1945 - val_binary_accuracy: 0.9069 - val_loss: 0.2146 - val_precision: 0.6019 - val_recall: 0.1834\n",
            "Epoch 15/40\n",
            "\u001b[1m603/603\u001b[0m \u001b[32m━━━━━━━━━━━━━━━━━━━━\u001b[0m\u001b[37m\u001b[0m \u001b[1m69s\u001b[0m 115ms/step - binary_accuracy: 0.9007 - loss: 0.2283 - precision: 0.5143 - recall: 0.2258 - val_binary_accuracy: 0.9072 - val_loss: 0.2158 - val_precision: 0.6146 - val_recall: 0.1746\n",
            "Epoch 16/40\n",
            "\u001b[1m603/603\u001b[0m \u001b[32m━━━━━━━━━━━━━━━━━━━━\u001b[0m\u001b[37m\u001b[0m \u001b[1m70s\u001b[0m 116ms/step - binary_accuracy: 0.9052 - loss: 0.2226 - precision: 0.5636 - recall: 0.2489 - val_binary_accuracy: 0.9093 - val_loss: 0.2131 - val_precision: 0.5924 - val_recall: 0.2751\n",
            "Epoch 17/40\n",
            "\u001b[1m603/603\u001b[0m \u001b[32m━━━━━━━━━━━━━━━━━━━━\u001b[0m\u001b[37m\u001b[0m \u001b[1m69s\u001b[0m 115ms/step - binary_accuracy: 0.9038 - loss: 0.2228 - precision: 0.5463 - recall: 0.2477 - val_binary_accuracy: 0.9081 - val_loss: 0.2146 - val_precision: 0.5874 - val_recall: 0.2485\n",
            "Epoch 18/40\n",
            "\u001b[1m603/603\u001b[0m \u001b[32m━━━━━━━━━━━━━━━━━━━━\u001b[0m\u001b[37m\u001b[0m \u001b[1m69s\u001b[0m 115ms/step - binary_accuracy: 0.9053 - loss: 0.2182 - precision: 0.5605 - recall: 0.2659 - val_binary_accuracy: 0.9084 - val_loss: 0.2152 - val_precision: 0.5739 - val_recall: 0.2988\n",
            "Epoch 19/40\n",
            "\u001b[1m603/603\u001b[0m \u001b[32m━━━━━━━━━━━━━━━━━━━━\u001b[0m\u001b[37m\u001b[0m \u001b[1m70s\u001b[0m 116ms/step - binary_accuracy: 0.9071 - loss: 0.2153 - precision: 0.5751 - recall: 0.2880 - val_binary_accuracy: 0.9107 - val_loss: 0.2125 - val_precision: 0.5833 - val_recall: 0.3521\n",
            "Epoch 20/40\n",
            "\u001b[1m603/603\u001b[0m \u001b[32m━━━━━━━━━━━━━━━━━━━━\u001b[0m\u001b[37m\u001b[0m \u001b[1m69s\u001b[0m 115ms/step - binary_accuracy: 0.9057 - loss: 0.2123 - precision: 0.5589 - recall: 0.2862 - val_binary_accuracy: 0.9081 - val_loss: 0.2135 - val_precision: 0.5874 - val_recall: 0.2485\n",
            "Epoch 21/40\n",
            "\u001b[1m603/603\u001b[0m \u001b[32m━━━━━━━━━━━━━━━━━━━━\u001b[0m\u001b[37m\u001b[0m \u001b[1m69s\u001b[0m 115ms/step - binary_accuracy: 0.9073 - loss: 0.2096 - precision: 0.5731 - recall: 0.3009 - val_binary_accuracy: 0.9055 - val_loss: 0.2270 - val_precision: 0.5870 - val_recall: 0.1598\n",
            "Epoch 22/40\n",
            "\u001b[1m603/603\u001b[0m \u001b[32m━━━━━━━━━━━━━━━━━━━━\u001b[0m\u001b[37m\u001b[0m \u001b[1m69s\u001b[0m 115ms/step - binary_accuracy: 0.9083 - loss: 0.2083 - precision: 0.5801 - recall: 0.3148 - val_binary_accuracy: 0.9016 - val_loss: 0.2390 - val_precision: 0.5294 - val_recall: 0.0799\n",
            "Epoch 23/40\n",
            "\u001b[1m603/603\u001b[0m \u001b[32m━━━━━━━━━━━━━━━━━━━━\u001b[0m\u001b[37m\u001b[0m \u001b[1m69s\u001b[0m 115ms/step - binary_accuracy: 0.9085 - loss: 0.2057 - precision: 0.5799 - recall: 0.3241 - val_binary_accuracy: 0.9072 - val_loss: 0.2214 - val_precision: 0.5902 - val_recall: 0.2130\n",
            "Epoch 24/40\n",
            "\u001b[1m603/603\u001b[0m \u001b[32m━━━━━━━━━━━━━━━━━━━━\u001b[0m\u001b[37m\u001b[0m \u001b[1m69s\u001b[0m 114ms/step - binary_accuracy: 0.9137 - loss: 0.1999 - precision: 0.6257 - recall: 0.3459 - val_binary_accuracy: 0.9075 - val_loss: 0.2151 - val_precision: 0.5540 - val_recall: 0.3491\n",
            "Epoch 25/40\n",
            "\u001b[1m603/603\u001b[0m \u001b[32m━━━━━━━━━━━━━━━━━━━━\u001b[0m\u001b[37m\u001b[0m \u001b[1m69s\u001b[0m 115ms/step - binary_accuracy: 0.9137 - loss: 0.1961 - precision: 0.6199 - recall: 0.3661 - val_binary_accuracy: 0.9102 - val_loss: 0.2200 - val_precision: 0.6176 - val_recall: 0.2485\n",
            "Epoch 26/40\n",
            "\u001b[1m603/603\u001b[0m \u001b[32m━━━━━━━━━━━━━━━━━━━━\u001b[0m\u001b[37m\u001b[0m \u001b[1m69s\u001b[0m 115ms/step - binary_accuracy: 0.9148 - loss: 0.1904 - precision: 0.6261 - recall: 0.3765 - val_binary_accuracy: 0.9058 - val_loss: 0.2203 - val_precision: 0.5381 - val_recall: 0.3550\n",
            "Epoch 27/40\n",
            "\u001b[1m603/603\u001b[0m \u001b[32m━━━━━━━━━━━━━━━━━━━━\u001b[0m\u001b[37m\u001b[0m \u001b[1m69s\u001b[0m 115ms/step - binary_accuracy: 0.9210 - loss: 0.1861 - precision: 0.6751 - recall: 0.4103 - val_binary_accuracy: 0.9099 - val_loss: 0.2211 - val_precision: 0.5951 - val_recall: 0.2870\n",
            "Epoch 28/40\n",
            "\u001b[1m603/603\u001b[0m \u001b[32m━━━━━━━━━━━━━━━━━━━━\u001b[0m\u001b[37m\u001b[0m \u001b[1m69s\u001b[0m 115ms/step - binary_accuracy: 0.9212 - loss: 0.1811 - precision: 0.6690 - recall: 0.4261 - val_binary_accuracy: 0.9014 - val_loss: 0.2323 - val_precision: 0.5043 - val_recall: 0.3462\n",
            "Epoch 29/40\n",
            "\u001b[1m 96/603\u001b[0m \u001b[32m━━━\u001b[0m\u001b[37m━━━━━━━━━━━━━━━━━\u001b[0m \u001b[1m56s\u001b[0m 111ms/step - binary_accuracy: 0.9186 - loss: 0.1947 - precision: 0.6667 - recall: 0.4636"
          ]
        },
        {
          "output_type": "error",
          "ename": "KeyboardInterrupt",
          "evalue": "",
          "traceback": [
            "\u001b[0;31m---------------------------------------------------------------------------\u001b[0m",
            "\u001b[0;31mKeyboardInterrupt\u001b[0m                         Traceback (most recent call last)",
            "\u001b[0;32m/tmp/ipython-input-3984493739.py\u001b[0m in \u001b[0;36m<cell line: 0>\u001b[0;34m()\u001b[0m\n\u001b[1;32m     15\u001b[0m \u001b[0mstop_early\u001b[0m \u001b[0;34m=\u001b[0m \u001b[0mEarlyStopping\u001b[0m\u001b[0;34m(\u001b[0m\u001b[0mmonitor\u001b[0m\u001b[0;34m=\u001b[0m\u001b[0;34m'val_loss'\u001b[0m\u001b[0;34m,\u001b[0m \u001b[0mpatience\u001b[0m\u001b[0;34m=\u001b[0m\u001b[0;36m10\u001b[0m\u001b[0;34m)\u001b[0m\u001b[0;34m\u001b[0m\u001b[0;34m\u001b[0m\u001b[0m\n\u001b[1;32m     16\u001b[0m \u001b[0;34m\u001b[0m\u001b[0m\n\u001b[0;32m---> 17\u001b[0;31m tuner.search(\n\u001b[0m\u001b[1;32m     18\u001b[0m     \u001b[0mtrain_visible_ds\u001b[0m\u001b[0;34m,\u001b[0m\u001b[0;34m\u001b[0m\u001b[0;34m\u001b[0m\u001b[0m\n\u001b[1;32m     19\u001b[0m     \u001b[0mvalidation_data\u001b[0m\u001b[0;34m=\u001b[0m\u001b[0mval_visible_ds\u001b[0m\u001b[0;34m,\u001b[0m\u001b[0;34m\u001b[0m\u001b[0;34m\u001b[0m\u001b[0m\n",
            "\u001b[0;32m/usr/local/lib/python3.12/dist-packages/keras_tuner/src/engine/base_tuner.py\u001b[0m in \u001b[0;36msearch\u001b[0;34m(self, *fit_args, **fit_kwargs)\u001b[0m\n\u001b[1;32m    232\u001b[0m \u001b[0;34m\u001b[0m\u001b[0m\n\u001b[1;32m    233\u001b[0m             \u001b[0mself\u001b[0m\u001b[0;34m.\u001b[0m\u001b[0mon_trial_begin\u001b[0m\u001b[0;34m(\u001b[0m\u001b[0mtrial\u001b[0m\u001b[0;34m)\u001b[0m\u001b[0;34m\u001b[0m\u001b[0;34m\u001b[0m\u001b[0m\n\u001b[0;32m--> 234\u001b[0;31m             \u001b[0mself\u001b[0m\u001b[0;34m.\u001b[0m\u001b[0m_try_run_and_update_trial\u001b[0m\u001b[0;34m(\u001b[0m\u001b[0mtrial\u001b[0m\u001b[0;34m,\u001b[0m \u001b[0;34m*\u001b[0m\u001b[0mfit_args\u001b[0m\u001b[0;34m,\u001b[0m \u001b[0;34m**\u001b[0m\u001b[0mfit_kwargs\u001b[0m\u001b[0;34m)\u001b[0m\u001b[0;34m\u001b[0m\u001b[0;34m\u001b[0m\u001b[0m\n\u001b[0m\u001b[1;32m    235\u001b[0m             \u001b[0mself\u001b[0m\u001b[0;34m.\u001b[0m\u001b[0mon_trial_end\u001b[0m\u001b[0;34m(\u001b[0m\u001b[0mtrial\u001b[0m\u001b[0;34m)\u001b[0m\u001b[0;34m\u001b[0m\u001b[0;34m\u001b[0m\u001b[0m\n\u001b[1;32m    236\u001b[0m         \u001b[0mself\u001b[0m\u001b[0;34m.\u001b[0m\u001b[0mon_search_end\u001b[0m\u001b[0;34m(\u001b[0m\u001b[0;34m)\u001b[0m\u001b[0;34m\u001b[0m\u001b[0;34m\u001b[0m\u001b[0m\n",
            "\u001b[0;32m/usr/local/lib/python3.12/dist-packages/keras_tuner/src/engine/base_tuner.py\u001b[0m in \u001b[0;36m_try_run_and_update_trial\u001b[0;34m(self, trial, *fit_args, **fit_kwargs)\u001b[0m\n\u001b[1;32m    272\u001b[0m     \u001b[0;32mdef\u001b[0m \u001b[0m_try_run_and_update_trial\u001b[0m\u001b[0;34m(\u001b[0m\u001b[0mself\u001b[0m\u001b[0;34m,\u001b[0m \u001b[0mtrial\u001b[0m\u001b[0;34m,\u001b[0m \u001b[0;34m*\u001b[0m\u001b[0mfit_args\u001b[0m\u001b[0;34m,\u001b[0m \u001b[0;34m**\u001b[0m\u001b[0mfit_kwargs\u001b[0m\u001b[0;34m)\u001b[0m\u001b[0;34m:\u001b[0m\u001b[0;34m\u001b[0m\u001b[0;34m\u001b[0m\u001b[0m\n\u001b[1;32m    273\u001b[0m         \u001b[0;32mtry\u001b[0m\u001b[0;34m:\u001b[0m\u001b[0;34m\u001b[0m\u001b[0;34m\u001b[0m\u001b[0m\n\u001b[0;32m--> 274\u001b[0;31m             \u001b[0mself\u001b[0m\u001b[0;34m.\u001b[0m\u001b[0m_run_and_update_trial\u001b[0m\u001b[0;34m(\u001b[0m\u001b[0mtrial\u001b[0m\u001b[0;34m,\u001b[0m \u001b[0;34m*\u001b[0m\u001b[0mfit_args\u001b[0m\u001b[0;34m,\u001b[0m \u001b[0;34m**\u001b[0m\u001b[0mfit_kwargs\u001b[0m\u001b[0;34m)\u001b[0m\u001b[0;34m\u001b[0m\u001b[0;34m\u001b[0m\u001b[0m\n\u001b[0m\u001b[1;32m    275\u001b[0m             \u001b[0mtrial\u001b[0m\u001b[0;34m.\u001b[0m\u001b[0mstatus\u001b[0m \u001b[0;34m=\u001b[0m \u001b[0mtrial_module\u001b[0m\u001b[0;34m.\u001b[0m\u001b[0mTrialStatus\u001b[0m\u001b[0;34m.\u001b[0m\u001b[0mCOMPLETED\u001b[0m\u001b[0;34m\u001b[0m\u001b[0;34m\u001b[0m\u001b[0m\n\u001b[1;32m    276\u001b[0m             \u001b[0;32mreturn\u001b[0m\u001b[0;34m\u001b[0m\u001b[0;34m\u001b[0m\u001b[0m\n",
            "\u001b[0;32m/usr/local/lib/python3.12/dist-packages/keras_tuner/src/engine/base_tuner.py\u001b[0m in \u001b[0;36m_run_and_update_trial\u001b[0;34m(self, trial, *fit_args, **fit_kwargs)\u001b[0m\n\u001b[1;32m    237\u001b[0m \u001b[0;34m\u001b[0m\u001b[0m\n\u001b[1;32m    238\u001b[0m     \u001b[0;32mdef\u001b[0m \u001b[0m_run_and_update_trial\u001b[0m\u001b[0;34m(\u001b[0m\u001b[0mself\u001b[0m\u001b[0;34m,\u001b[0m \u001b[0mtrial\u001b[0m\u001b[0;34m,\u001b[0m \u001b[0;34m*\u001b[0m\u001b[0mfit_args\u001b[0m\u001b[0;34m,\u001b[0m \u001b[0;34m**\u001b[0m\u001b[0mfit_kwargs\u001b[0m\u001b[0;34m)\u001b[0m\u001b[0;34m:\u001b[0m\u001b[0;34m\u001b[0m\u001b[0;34m\u001b[0m\u001b[0m\n\u001b[0;32m--> 239\u001b[0;31m         \u001b[0mresults\u001b[0m \u001b[0;34m=\u001b[0m \u001b[0mself\u001b[0m\u001b[0;34m.\u001b[0m\u001b[0mrun_trial\u001b[0m\u001b[0;34m(\u001b[0m\u001b[0mtrial\u001b[0m\u001b[0;34m,\u001b[0m \u001b[0;34m*\u001b[0m\u001b[0mfit_args\u001b[0m\u001b[0;34m,\u001b[0m \u001b[0;34m**\u001b[0m\u001b[0mfit_kwargs\u001b[0m\u001b[0;34m)\u001b[0m\u001b[0;34m\u001b[0m\u001b[0;34m\u001b[0m\u001b[0m\n\u001b[0m\u001b[1;32m    240\u001b[0m         if self.oracle.get_trial(trial.trial_id).metrics.exists(\n\u001b[1;32m    241\u001b[0m             \u001b[0mself\u001b[0m\u001b[0;34m.\u001b[0m\u001b[0moracle\u001b[0m\u001b[0;34m.\u001b[0m\u001b[0mobjective\u001b[0m\u001b[0;34m.\u001b[0m\u001b[0mname\u001b[0m\u001b[0;34m\u001b[0m\u001b[0;34m\u001b[0m\u001b[0m\n",
            "\u001b[0;32m/usr/local/lib/python3.12/dist-packages/keras_tuner/src/tuners/hyperband.py\u001b[0m in \u001b[0;36mrun_trial\u001b[0;34m(self, trial, *fit_args, **fit_kwargs)\u001b[0m\n\u001b[1;32m    425\u001b[0m             \u001b[0mfit_kwargs\u001b[0m\u001b[0;34m[\u001b[0m\u001b[0;34m\"epochs\"\u001b[0m\u001b[0;34m]\u001b[0m \u001b[0;34m=\u001b[0m \u001b[0mhp\u001b[0m\u001b[0;34m.\u001b[0m\u001b[0mvalues\u001b[0m\u001b[0;34m[\u001b[0m\u001b[0;34m\"tuner/epochs\"\u001b[0m\u001b[0;34m]\u001b[0m\u001b[0;34m\u001b[0m\u001b[0;34m\u001b[0m\u001b[0m\n\u001b[1;32m    426\u001b[0m             \u001b[0mfit_kwargs\u001b[0m\u001b[0;34m[\u001b[0m\u001b[0;34m\"initial_epoch\"\u001b[0m\u001b[0;34m]\u001b[0m \u001b[0;34m=\u001b[0m \u001b[0mhp\u001b[0m\u001b[0;34m.\u001b[0m\u001b[0mvalues\u001b[0m\u001b[0;34m[\u001b[0m\u001b[0;34m\"tuner/initial_epoch\"\u001b[0m\u001b[0;34m]\u001b[0m\u001b[0;34m\u001b[0m\u001b[0;34m\u001b[0m\u001b[0m\n\u001b[0;32m--> 427\u001b[0;31m         \u001b[0;32mreturn\u001b[0m \u001b[0msuper\u001b[0m\u001b[0;34m(\u001b[0m\u001b[0;34m)\u001b[0m\u001b[0;34m.\u001b[0m\u001b[0mrun_trial\u001b[0m\u001b[0;34m(\u001b[0m\u001b[0mtrial\u001b[0m\u001b[0;34m,\u001b[0m \u001b[0;34m*\u001b[0m\u001b[0mfit_args\u001b[0m\u001b[0;34m,\u001b[0m \u001b[0;34m**\u001b[0m\u001b[0mfit_kwargs\u001b[0m\u001b[0;34m)\u001b[0m\u001b[0;34m\u001b[0m\u001b[0;34m\u001b[0m\u001b[0m\n\u001b[0m\u001b[1;32m    428\u001b[0m \u001b[0;34m\u001b[0m\u001b[0m\n\u001b[1;32m    429\u001b[0m     \u001b[0;32mdef\u001b[0m \u001b[0m_build_hypermodel\u001b[0m\u001b[0;34m(\u001b[0m\u001b[0mself\u001b[0m\u001b[0;34m,\u001b[0m \u001b[0mhp\u001b[0m\u001b[0;34m)\u001b[0m\u001b[0;34m:\u001b[0m\u001b[0;34m\u001b[0m\u001b[0;34m\u001b[0m\u001b[0m\n",
            "\u001b[0;32m/usr/local/lib/python3.12/dist-packages/keras_tuner/src/engine/tuner.py\u001b[0m in \u001b[0;36mrun_trial\u001b[0;34m(self, trial, *args, **kwargs)\u001b[0m\n\u001b[1;32m    312\u001b[0m             \u001b[0mcallbacks\u001b[0m\u001b[0;34m.\u001b[0m\u001b[0mappend\u001b[0m\u001b[0;34m(\u001b[0m\u001b[0mmodel_checkpoint\u001b[0m\u001b[0;34m)\u001b[0m\u001b[0;34m\u001b[0m\u001b[0;34m\u001b[0m\u001b[0m\n\u001b[1;32m    313\u001b[0m             \u001b[0mcopied_kwargs\u001b[0m\u001b[0;34m[\u001b[0m\u001b[0;34m\"callbacks\"\u001b[0m\u001b[0;34m]\u001b[0m \u001b[0;34m=\u001b[0m \u001b[0mcallbacks\u001b[0m\u001b[0;34m\u001b[0m\u001b[0;34m\u001b[0m\u001b[0m\n\u001b[0;32m--> 314\u001b[0;31m             \u001b[0mobj_value\u001b[0m \u001b[0;34m=\u001b[0m \u001b[0mself\u001b[0m\u001b[0;34m.\u001b[0m\u001b[0m_build_and_fit_model\u001b[0m\u001b[0;34m(\u001b[0m\u001b[0mtrial\u001b[0m\u001b[0;34m,\u001b[0m \u001b[0;34m*\u001b[0m\u001b[0margs\u001b[0m\u001b[0;34m,\u001b[0m \u001b[0;34m**\u001b[0m\u001b[0mcopied_kwargs\u001b[0m\u001b[0;34m)\u001b[0m\u001b[0;34m\u001b[0m\u001b[0;34m\u001b[0m\u001b[0m\n\u001b[0m\u001b[1;32m    315\u001b[0m \u001b[0;34m\u001b[0m\u001b[0m\n\u001b[1;32m    316\u001b[0m             \u001b[0mhistories\u001b[0m\u001b[0;34m.\u001b[0m\u001b[0mappend\u001b[0m\u001b[0;34m(\u001b[0m\u001b[0mobj_value\u001b[0m\u001b[0;34m)\u001b[0m\u001b[0;34m\u001b[0m\u001b[0;34m\u001b[0m\u001b[0m\n",
            "\u001b[0;32m/usr/local/lib/python3.12/dist-packages/keras_tuner/src/engine/tuner.py\u001b[0m in \u001b[0;36m_build_and_fit_model\u001b[0;34m(self, trial, *args, **kwargs)\u001b[0m\n\u001b[1;32m    231\u001b[0m         \u001b[0mhp\u001b[0m \u001b[0;34m=\u001b[0m \u001b[0mtrial\u001b[0m\u001b[0;34m.\u001b[0m\u001b[0mhyperparameters\u001b[0m\u001b[0;34m\u001b[0m\u001b[0;34m\u001b[0m\u001b[0m\n\u001b[1;32m    232\u001b[0m         \u001b[0mmodel\u001b[0m \u001b[0;34m=\u001b[0m \u001b[0mself\u001b[0m\u001b[0;34m.\u001b[0m\u001b[0m_try_build\u001b[0m\u001b[0;34m(\u001b[0m\u001b[0mhp\u001b[0m\u001b[0;34m)\u001b[0m\u001b[0;34m\u001b[0m\u001b[0;34m\u001b[0m\u001b[0m\n\u001b[0;32m--> 233\u001b[0;31m         \u001b[0mresults\u001b[0m \u001b[0;34m=\u001b[0m \u001b[0mself\u001b[0m\u001b[0;34m.\u001b[0m\u001b[0mhypermodel\u001b[0m\u001b[0;34m.\u001b[0m\u001b[0mfit\u001b[0m\u001b[0;34m(\u001b[0m\u001b[0mhp\u001b[0m\u001b[0;34m,\u001b[0m \u001b[0mmodel\u001b[0m\u001b[0;34m,\u001b[0m \u001b[0;34m*\u001b[0m\u001b[0margs\u001b[0m\u001b[0;34m,\u001b[0m \u001b[0;34m**\u001b[0m\u001b[0mkwargs\u001b[0m\u001b[0;34m)\u001b[0m\u001b[0;34m\u001b[0m\u001b[0;34m\u001b[0m\u001b[0m\n\u001b[0m\u001b[1;32m    234\u001b[0m \u001b[0;34m\u001b[0m\u001b[0m\n\u001b[1;32m    235\u001b[0m         \u001b[0;31m# Save the build config for model loading later.\u001b[0m\u001b[0;34m\u001b[0m\u001b[0;34m\u001b[0m\u001b[0m\n",
            "\u001b[0;32m/usr/local/lib/python3.12/dist-packages/keras_tuner/src/engine/hypermodel.py\u001b[0m in \u001b[0;36mfit\u001b[0;34m(self, hp, model, *args, **kwargs)\u001b[0m\n\u001b[1;32m    147\u001b[0m             \u001b[0mIf\u001b[0m \u001b[0;32mreturn\u001b[0m \u001b[0ma\u001b[0m \u001b[0mfloat\u001b[0m\u001b[0;34m,\u001b[0m \u001b[0mit\u001b[0m \u001b[0mshould\u001b[0m \u001b[0mbe\u001b[0m \u001b[0mthe\u001b[0m\u001b[0;31m \u001b[0m\u001b[0;31m`\u001b[0m\u001b[0mobjective\u001b[0m\u001b[0;31m`\u001b[0m \u001b[0mvalue\u001b[0m\u001b[0;34m.\u001b[0m\u001b[0;34m\u001b[0m\u001b[0;34m\u001b[0m\u001b[0m\n\u001b[1;32m    148\u001b[0m         \"\"\"\n\u001b[0;32m--> 149\u001b[0;31m         \u001b[0;32mreturn\u001b[0m \u001b[0mmodel\u001b[0m\u001b[0;34m.\u001b[0m\u001b[0mfit\u001b[0m\u001b[0;34m(\u001b[0m\u001b[0;34m*\u001b[0m\u001b[0margs\u001b[0m\u001b[0;34m,\u001b[0m \u001b[0;34m**\u001b[0m\u001b[0mkwargs\u001b[0m\u001b[0;34m)\u001b[0m\u001b[0;34m\u001b[0m\u001b[0;34m\u001b[0m\u001b[0m\n\u001b[0m\u001b[1;32m    150\u001b[0m \u001b[0;34m\u001b[0m\u001b[0m\n\u001b[1;32m    151\u001b[0m \u001b[0;34m\u001b[0m\u001b[0m\n",
            "\u001b[0;32m/usr/local/lib/python3.12/dist-packages/keras/src/utils/traceback_utils.py\u001b[0m in \u001b[0;36merror_handler\u001b[0;34m(*args, **kwargs)\u001b[0m\n\u001b[1;32m    115\u001b[0m         \u001b[0mfiltered_tb\u001b[0m \u001b[0;34m=\u001b[0m \u001b[0;32mNone\u001b[0m\u001b[0;34m\u001b[0m\u001b[0;34m\u001b[0m\u001b[0m\n\u001b[1;32m    116\u001b[0m         \u001b[0;32mtry\u001b[0m\u001b[0;34m:\u001b[0m\u001b[0;34m\u001b[0m\u001b[0;34m\u001b[0m\u001b[0m\n\u001b[0;32m--> 117\u001b[0;31m             \u001b[0;32mreturn\u001b[0m \u001b[0mfn\u001b[0m\u001b[0;34m(\u001b[0m\u001b[0;34m*\u001b[0m\u001b[0margs\u001b[0m\u001b[0;34m,\u001b[0m \u001b[0;34m**\u001b[0m\u001b[0mkwargs\u001b[0m\u001b[0;34m)\u001b[0m\u001b[0;34m\u001b[0m\u001b[0;34m\u001b[0m\u001b[0m\n\u001b[0m\u001b[1;32m    118\u001b[0m         \u001b[0;32mexcept\u001b[0m \u001b[0mException\u001b[0m \u001b[0;32mas\u001b[0m \u001b[0me\u001b[0m\u001b[0;34m:\u001b[0m\u001b[0;34m\u001b[0m\u001b[0;34m\u001b[0m\u001b[0m\n\u001b[1;32m    119\u001b[0m             \u001b[0mfiltered_tb\u001b[0m \u001b[0;34m=\u001b[0m \u001b[0m_process_traceback_frames\u001b[0m\u001b[0;34m(\u001b[0m\u001b[0me\u001b[0m\u001b[0;34m.\u001b[0m\u001b[0m__traceback__\u001b[0m\u001b[0;34m)\u001b[0m\u001b[0;34m\u001b[0m\u001b[0;34m\u001b[0m\u001b[0m\n",
            "\u001b[0;32m/usr/local/lib/python3.12/dist-packages/keras/src/backend/tensorflow/trainer.py\u001b[0m in \u001b[0;36mfit\u001b[0;34m(self, x, y, batch_size, epochs, verbose, callbacks, validation_split, validation_data, shuffle, class_weight, sample_weight, initial_epoch, steps_per_epoch, validation_steps, validation_batch_size, validation_freq)\u001b[0m\n\u001b[1;32m    375\u001b[0m                 \u001b[0;32mfor\u001b[0m \u001b[0mstep\u001b[0m\u001b[0;34m,\u001b[0m \u001b[0miterator\u001b[0m \u001b[0;32min\u001b[0m \u001b[0mepoch_iterator\u001b[0m\u001b[0;34m:\u001b[0m\u001b[0;34m\u001b[0m\u001b[0;34m\u001b[0m\u001b[0m\n\u001b[1;32m    376\u001b[0m                     \u001b[0mcallbacks\u001b[0m\u001b[0;34m.\u001b[0m\u001b[0mon_train_batch_begin\u001b[0m\u001b[0;34m(\u001b[0m\u001b[0mstep\u001b[0m\u001b[0;34m)\u001b[0m\u001b[0;34m\u001b[0m\u001b[0;34m\u001b[0m\u001b[0m\n\u001b[0;32m--> 377\u001b[0;31m                     \u001b[0mlogs\u001b[0m \u001b[0;34m=\u001b[0m \u001b[0mself\u001b[0m\u001b[0;34m.\u001b[0m\u001b[0mtrain_function\u001b[0m\u001b[0;34m(\u001b[0m\u001b[0miterator\u001b[0m\u001b[0;34m)\u001b[0m\u001b[0;34m\u001b[0m\u001b[0;34m\u001b[0m\u001b[0m\n\u001b[0m\u001b[1;32m    378\u001b[0m                     \u001b[0mcallbacks\u001b[0m\u001b[0;34m.\u001b[0m\u001b[0mon_train_batch_end\u001b[0m\u001b[0;34m(\u001b[0m\u001b[0mstep\u001b[0m\u001b[0;34m,\u001b[0m \u001b[0mlogs\u001b[0m\u001b[0;34m)\u001b[0m\u001b[0;34m\u001b[0m\u001b[0;34m\u001b[0m\u001b[0m\n\u001b[1;32m    379\u001b[0m                     \u001b[0;32mif\u001b[0m \u001b[0mself\u001b[0m\u001b[0;34m.\u001b[0m\u001b[0mstop_training\u001b[0m\u001b[0;34m:\u001b[0m\u001b[0;34m\u001b[0m\u001b[0;34m\u001b[0m\u001b[0m\n",
            "\u001b[0;32m/usr/local/lib/python3.12/dist-packages/keras/src/backend/tensorflow/trainer.py\u001b[0m in \u001b[0;36mfunction\u001b[0;34m(iterator)\u001b[0m\n\u001b[1;32m    219\u001b[0m             ):\n\u001b[1;32m    220\u001b[0m                 \u001b[0mopt_outputs\u001b[0m \u001b[0;34m=\u001b[0m \u001b[0mmulti_step_on_iterator\u001b[0m\u001b[0;34m(\u001b[0m\u001b[0miterator\u001b[0m\u001b[0;34m)\u001b[0m\u001b[0;34m\u001b[0m\u001b[0;34m\u001b[0m\u001b[0m\n\u001b[0;32m--> 221\u001b[0;31m                 \u001b[0;32mif\u001b[0m \u001b[0;32mnot\u001b[0m \u001b[0mopt_outputs\u001b[0m\u001b[0;34m.\u001b[0m\u001b[0mhas_value\u001b[0m\u001b[0;34m(\u001b[0m\u001b[0;34m)\u001b[0m\u001b[0;34m:\u001b[0m\u001b[0;34m\u001b[0m\u001b[0;34m\u001b[0m\u001b[0m\n\u001b[0m\u001b[1;32m    222\u001b[0m                     \u001b[0;32mraise\u001b[0m \u001b[0mStopIteration\u001b[0m\u001b[0;34m\u001b[0m\u001b[0;34m\u001b[0m\u001b[0m\n\u001b[1;32m    223\u001b[0m                 \u001b[0;32mreturn\u001b[0m \u001b[0mopt_outputs\u001b[0m\u001b[0;34m.\u001b[0m\u001b[0mget_value\u001b[0m\u001b[0;34m(\u001b[0m\u001b[0;34m)\u001b[0m\u001b[0;34m\u001b[0m\u001b[0;34m\u001b[0m\u001b[0m\n",
            "\u001b[0;32m/usr/local/lib/python3.12/dist-packages/tensorflow/python/data/ops/optional_ops.py\u001b[0m in \u001b[0;36mhas_value\u001b[0;34m(self, name)\u001b[0m\n\u001b[1;32m    174\u001b[0m   \u001b[0;32mdef\u001b[0m \u001b[0mhas_value\u001b[0m\u001b[0;34m(\u001b[0m\u001b[0mself\u001b[0m\u001b[0;34m,\u001b[0m \u001b[0mname\u001b[0m\u001b[0;34m=\u001b[0m\u001b[0;32mNone\u001b[0m\u001b[0;34m)\u001b[0m\u001b[0;34m:\u001b[0m\u001b[0;34m\u001b[0m\u001b[0;34m\u001b[0m\u001b[0m\n\u001b[1;32m    175\u001b[0m     \u001b[0;32mwith\u001b[0m \u001b[0mops\u001b[0m\u001b[0;34m.\u001b[0m\u001b[0mcolocate_with\u001b[0m\u001b[0;34m(\u001b[0m\u001b[0mself\u001b[0m\u001b[0;34m.\u001b[0m\u001b[0m_variant_tensor\u001b[0m\u001b[0;34m)\u001b[0m\u001b[0;34m:\u001b[0m\u001b[0;34m\u001b[0m\u001b[0;34m\u001b[0m\u001b[0m\n\u001b[0;32m--> 176\u001b[0;31m       return gen_optional_ops.optional_has_value(\n\u001b[0m\u001b[1;32m    177\u001b[0m           \u001b[0mself\u001b[0m\u001b[0;34m.\u001b[0m\u001b[0m_variant_tensor\u001b[0m\u001b[0;34m,\u001b[0m \u001b[0mname\u001b[0m\u001b[0;34m=\u001b[0m\u001b[0mname\u001b[0m\u001b[0;34m\u001b[0m\u001b[0;34m\u001b[0m\u001b[0m\n\u001b[1;32m    178\u001b[0m       )\n",
            "\u001b[0;32m/usr/local/lib/python3.12/dist-packages/tensorflow/python/ops/gen_optional_ops.py\u001b[0m in \u001b[0;36moptional_has_value\u001b[0;34m(optional, name)\u001b[0m\n\u001b[1;32m    170\u001b[0m   \u001b[0;32mif\u001b[0m \u001b[0mtld\u001b[0m\u001b[0;34m.\u001b[0m\u001b[0mis_eager\u001b[0m\u001b[0;34m:\u001b[0m\u001b[0;34m\u001b[0m\u001b[0;34m\u001b[0m\u001b[0m\n\u001b[1;32m    171\u001b[0m     \u001b[0;32mtry\u001b[0m\u001b[0;34m:\u001b[0m\u001b[0;34m\u001b[0m\u001b[0;34m\u001b[0m\u001b[0m\n\u001b[0;32m--> 172\u001b[0;31m       _result = pywrap_tfe.TFE_Py_FastPathExecute(\n\u001b[0m\u001b[1;32m    173\u001b[0m         _ctx, \"OptionalHasValue\", name, optional)\n\u001b[1;32m    174\u001b[0m       \u001b[0;32mreturn\u001b[0m \u001b[0m_result\u001b[0m\u001b[0;34m\u001b[0m\u001b[0;34m\u001b[0m\u001b[0m\n",
            "\u001b[0;31mKeyboardInterrupt\u001b[0m: "
          ]
        }
      ]
    },
    {
      "cell_type": "code",
      "source": [
        "tuner.results_summary(num_trials=5)"
      ],
      "metadata": {
        "id": "mrUBCNDp2Bkf",
        "outputId": "ceab592f-ea3e-429a-e9f2-3391f25d97cd",
        "colab": {
          "base_uri": "https://localhost:8080/"
        }
      },
      "id": "mrUBCNDp2Bkf",
      "execution_count": 15,
      "outputs": [
        {
          "output_type": "stream",
          "name": "stdout",
          "text": [
            "Results summary\n",
            "Results in /content/drive/My Drive/Colab Notebooks/rsna-intercranial-aneurysm-detection/data_gen_2/tuner_results_visible/visible_e1\n",
            "Showing 5 best trials\n",
            "Objective(name=\"val_loss\", direction=\"min\")\n",
            "\n",
            "Trial 0039 summary\n",
            "Hyperparameters:\n",
            "conv1_filters: 32\n",
            "conv1_kernel: 3\n",
            "conv2_filters: 64\n",
            "conv2_kernel: 5\n",
            "conv3_filters: 192\n",
            "dropout_1: 0.4\n",
            "dropout_2: 0.5\n",
            "optimizer: adam\n",
            "adam_lr: 0.0003241463219718352\n",
            "rms_lr: 1.2015957297929577e-05\n",
            "tuner/epochs: 40\n",
            "tuner/initial_epoch: 10\n",
            "tuner/bracket: 1\n",
            "tuner/round: 1\n",
            "tuner/trial_id: 0030\n",
            "Score: 0.21025902032852173\n",
            "\n",
            "Trial 0040 summary\n",
            "Hyperparameters:\n",
            "conv1_filters: 48\n",
            "conv1_kernel: 5\n",
            "conv2_filters: 64\n",
            "conv2_kernel: 3\n",
            "conv3_filters: 192\n",
            "dropout_1: 0.4\n",
            "dropout_2: 0.4\n",
            "optimizer: adam\n",
            "adam_lr: 0.0005550498129786479\n",
            "rms_lr: 6.601146406744397e-05\n",
            "tuner/epochs: 40\n",
            "tuner/initial_epoch: 0\n",
            "tuner/bracket: 0\n",
            "tuner/round: 0\n",
            "Score: 0.21210221946239471\n",
            "\n",
            "Trial 0028 summary\n",
            "Hyperparameters:\n",
            "conv1_filters: 32\n",
            "conv1_kernel: 3\n",
            "conv2_filters: 128\n",
            "conv2_kernel: 3\n",
            "conv3_filters: 192\n",
            "dropout_1: 0.30000000000000004\n",
            "dropout_2: 0.3\n",
            "optimizer: adam\n",
            "adam_lr: 0.00030432516855475103\n",
            "rms_lr: 0.00023360487671257027\n",
            "tuner/epochs: 40\n",
            "tuner/initial_epoch: 10\n",
            "tuner/bracket: 2\n",
            "tuner/round: 2\n",
            "tuner/trial_id: 0023\n",
            "Score: 0.21222834289073944\n",
            "\n",
            "Trial 0029 summary\n",
            "Hyperparameters:\n",
            "conv1_filters: 48\n",
            "conv1_kernel: 3\n",
            "conv2_filters: 96\n",
            "conv2_kernel: 3\n",
            "conv3_filters: 256\n",
            "dropout_1: 0.30000000000000004\n",
            "dropout_2: 0.4\n",
            "optimizer: adam\n",
            "adam_lr: 9.887195863122636e-05\n",
            "tuner/epochs: 40\n",
            "tuner/initial_epoch: 10\n",
            "tuner/bracket: 2\n",
            "tuner/round: 2\n",
            "tuner/trial_id: 0027\n",
            "rms_lr: 0.0007167591121253991\n",
            "Score: 0.21281374990940094\n",
            "\n",
            "Trial 0038 summary\n",
            "Hyperparameters:\n",
            "conv1_filters: 48\n",
            "conv1_kernel: 5\n",
            "conv2_filters: 96\n",
            "conv2_kernel: 5\n",
            "conv3_filters: 128\n",
            "dropout_1: 0.30000000000000004\n",
            "dropout_2: 0.3\n",
            "optimizer: adam\n",
            "adam_lr: 0.00024961712096001934\n",
            "rms_lr: 2.26920881763436e-05\n",
            "tuner/epochs: 40\n",
            "tuner/initial_epoch: 10\n",
            "tuner/bracket: 1\n",
            "tuner/round: 1\n",
            "tuner/trial_id: 0035\n",
            "Score: 0.21391980350017548\n"
          ]
        }
      ]
    },
    {
      "cell_type": "code",
      "source": [
        "tuner.get_best_hyperparameters(1)[0].values"
      ],
      "metadata": {
        "id": "Bu-OWM7j2SLa",
        "outputId": "ddd40acf-6c6d-43d2-9813-be6729e88ea6",
        "colab": {
          "base_uri": "https://localhost:8080/"
        }
      },
      "id": "Bu-OWM7j2SLa",
      "execution_count": 22,
      "outputs": [
        {
          "output_type": "execute_result",
          "data": {
            "text/plain": [
              "{'conv1_filters': 32,\n",
              " 'conv1_kernel': 3,\n",
              " 'conv2_filters': 64,\n",
              " 'conv2_kernel': 5,\n",
              " 'conv3_filters': 192,\n",
              " 'dropout_1': 0.4,\n",
              " 'dropout_2': 0.5,\n",
              " 'optimizer': 'adam',\n",
              " 'adam_lr': 0.0003241463219718352,\n",
              " 'rms_lr': 1.2015957297929577e-05,\n",
              " 'tuner/epochs': 40,\n",
              " 'tuner/initial_epoch': 10,\n",
              " 'tuner/bracket': 1,\n",
              " 'tuner/round': 1,\n",
              " 'tuner/trial_id': '0030'}"
            ]
          },
          "metadata": {},
          "execution_count": 22
        }
      ]
    },
    {
      "cell_type": "code",
      "source": [
        "best_model_visible = tuner.hypermodel.build(tuner.get_best_hyperparameters(1)[0])\n",
        "best_model_visible.summary()"
      ],
      "metadata": {
        "id": "xX56zN9fvJg0",
        "outputId": "9b72e757-f2db-4d98-9155-7253cd6390d3",
        "colab": {
          "base_uri": "https://localhost:8080/",
          "height": 753
        }
      },
      "id": "xX56zN9fvJg0",
      "execution_count": 13,
      "outputs": [
        {
          "output_type": "display_data",
          "data": {
            "text/plain": [
              "\u001b[1mModel: \"functional_1\"\u001b[0m\n"
            ],
            "text/html": [
              "<pre style=\"white-space:pre;overflow-x:auto;line-height:normal;font-family:Menlo,'DejaVu Sans Mono',consolas,'Courier New',monospace\"><span style=\"font-weight: bold\">Model: \"functional_1\"</span>\n",
              "</pre>\n"
            ]
          },
          "metadata": {}
        },
        {
          "output_type": "display_data",
          "data": {
            "text/plain": [
              "┏━━━━━━━━━━━━━━━━━━━━━━━━━━━━━━━━━┳━━━━━━━━━━━━━━━━━━━━━━━━┳━━━━━━━━━━━━━━━┓\n",
              "┃\u001b[1m \u001b[0m\u001b[1mLayer (type)                   \u001b[0m\u001b[1m \u001b[0m┃\u001b[1m \u001b[0m\u001b[1mOutput Shape          \u001b[0m\u001b[1m \u001b[0m┃\u001b[1m \u001b[0m\u001b[1m      Param #\u001b[0m\u001b[1m \u001b[0m┃\n",
              "┡━━━━━━━━━━━━━━━━━━━━━━━━━━━━━━━━━╇━━━━━━━━━━━━━━━━━━━━━━━━╇━━━━━━━━━━━━━━━┩\n",
              "│ input_layer_1 (\u001b[38;5;33mInputLayer\u001b[0m)      │ (\u001b[38;5;45mNone\u001b[0m, \u001b[38;5;34m512\u001b[0m, \u001b[38;5;34m512\u001b[0m, \u001b[38;5;34m1\u001b[0m)    │             \u001b[38;5;34m0\u001b[0m │\n",
              "├─────────────────────────────────┼────────────────────────┼───────────────┤\n",
              "│ conv2d_5 (\u001b[38;5;33mConv2D\u001b[0m)               │ (\u001b[38;5;45mNone\u001b[0m, \u001b[38;5;34m512\u001b[0m, \u001b[38;5;34m512\u001b[0m, \u001b[38;5;34m32\u001b[0m)   │           \u001b[38;5;34m320\u001b[0m │\n",
              "├─────────────────────────────────┼────────────────────────┼───────────────┤\n",
              "│ max_pooling2d_4 (\u001b[38;5;33mMaxPooling2D\u001b[0m)  │ (\u001b[38;5;45mNone\u001b[0m, \u001b[38;5;34m256\u001b[0m, \u001b[38;5;34m256\u001b[0m, \u001b[38;5;34m32\u001b[0m)   │             \u001b[38;5;34m0\u001b[0m │\n",
              "├─────────────────────────────────┼────────────────────────┼───────────────┤\n",
              "│ conv2d_6 (\u001b[38;5;33mConv2D\u001b[0m)               │ (\u001b[38;5;45mNone\u001b[0m, \u001b[38;5;34m256\u001b[0m, \u001b[38;5;34m256\u001b[0m, \u001b[38;5;34m64\u001b[0m)   │        \u001b[38;5;34m51,264\u001b[0m │\n",
              "├─────────────────────────────────┼────────────────────────┼───────────────┤\n",
              "│ max_pooling2d_5 (\u001b[38;5;33mMaxPooling2D\u001b[0m)  │ (\u001b[38;5;45mNone\u001b[0m, \u001b[38;5;34m128\u001b[0m, \u001b[38;5;34m128\u001b[0m, \u001b[38;5;34m64\u001b[0m)   │             \u001b[38;5;34m0\u001b[0m │\n",
              "├─────────────────────────────────┼────────────────────────┼───────────────┤\n",
              "│ conv2d_7 (\u001b[38;5;33mConv2D\u001b[0m)               │ (\u001b[38;5;45mNone\u001b[0m, \u001b[38;5;34m128\u001b[0m, \u001b[38;5;34m128\u001b[0m, \u001b[38;5;34m192\u001b[0m)  │       \u001b[38;5;34m110,592\u001b[0m │\n",
              "├─────────────────────────────────┼────────────────────────┼───────────────┤\n",
              "│ batch_normalization_2           │ (\u001b[38;5;45mNone\u001b[0m, \u001b[38;5;34m128\u001b[0m, \u001b[38;5;34m128\u001b[0m, \u001b[38;5;34m192\u001b[0m)  │           \u001b[38;5;34m768\u001b[0m │\n",
              "│ (\u001b[38;5;33mBatchNormalization\u001b[0m)            │                        │               │\n",
              "├─────────────────────────────────┼────────────────────────┼───────────────┤\n",
              "│ activation_2 (\u001b[38;5;33mActivation\u001b[0m)       │ (\u001b[38;5;45mNone\u001b[0m, \u001b[38;5;34m128\u001b[0m, \u001b[38;5;34m128\u001b[0m, \u001b[38;5;34m192\u001b[0m)  │             \u001b[38;5;34m0\u001b[0m │\n",
              "├─────────────────────────────────┼────────────────────────┼───────────────┤\n",
              "│ max_pooling2d_6 (\u001b[38;5;33mMaxPooling2D\u001b[0m)  │ (\u001b[38;5;45mNone\u001b[0m, \u001b[38;5;34m64\u001b[0m, \u001b[38;5;34m64\u001b[0m, \u001b[38;5;34m192\u001b[0m)    │             \u001b[38;5;34m0\u001b[0m │\n",
              "├─────────────────────────────────┼────────────────────────┼───────────────┤\n",
              "│ dropout_2 (\u001b[38;5;33mDropout\u001b[0m)             │ (\u001b[38;5;45mNone\u001b[0m, \u001b[38;5;34m64\u001b[0m, \u001b[38;5;34m64\u001b[0m, \u001b[38;5;34m192\u001b[0m)    │             \u001b[38;5;34m0\u001b[0m │\n",
              "├─────────────────────────────────┼────────────────────────┼───────────────┤\n",
              "│ conv2d_8 (\u001b[38;5;33mConv2D\u001b[0m)               │ (\u001b[38;5;45mNone\u001b[0m, \u001b[38;5;34m64\u001b[0m, \u001b[38;5;34m64\u001b[0m, \u001b[38;5;34m256\u001b[0m)    │       \u001b[38;5;34m442,624\u001b[0m │\n",
              "├─────────────────────────────────┼────────────────────────┼───────────────┤\n",
              "│ max_pooling2d_7 (\u001b[38;5;33mMaxPooling2D\u001b[0m)  │ (\u001b[38;5;45mNone\u001b[0m, \u001b[38;5;34m32\u001b[0m, \u001b[38;5;34m32\u001b[0m, \u001b[38;5;34m256\u001b[0m)    │             \u001b[38;5;34m0\u001b[0m │\n",
              "├─────────────────────────────────┼────────────────────────┼───────────────┤\n",
              "│ conv2d_9 (\u001b[38;5;33mConv2D\u001b[0m)               │ (\u001b[38;5;45mNone\u001b[0m, \u001b[38;5;34m32\u001b[0m, \u001b[38;5;34m32\u001b[0m, \u001b[38;5;34m256\u001b[0m)    │       \u001b[38;5;34m589,824\u001b[0m │\n",
              "├─────────────────────────────────┼────────────────────────┼───────────────┤\n",
              "│ batch_normalization_3           │ (\u001b[38;5;45mNone\u001b[0m, \u001b[38;5;34m32\u001b[0m, \u001b[38;5;34m32\u001b[0m, \u001b[38;5;34m256\u001b[0m)    │         \u001b[38;5;34m1,024\u001b[0m │\n",
              "│ (\u001b[38;5;33mBatchNormalization\u001b[0m)            │                        │               │\n",
              "├─────────────────────────────────┼────────────────────────┼───────────────┤\n",
              "│ activation_3 (\u001b[38;5;33mActivation\u001b[0m)       │ (\u001b[38;5;45mNone\u001b[0m, \u001b[38;5;34m32\u001b[0m, \u001b[38;5;34m32\u001b[0m, \u001b[38;5;34m256\u001b[0m)    │             \u001b[38;5;34m0\u001b[0m │\n",
              "├─────────────────────────────────┼────────────────────────┼───────────────┤\n",
              "│ global_average_pooling2d_1      │ (\u001b[38;5;45mNone\u001b[0m, \u001b[38;5;34m256\u001b[0m)            │             \u001b[38;5;34m0\u001b[0m │\n",
              "│ (\u001b[38;5;33mGlobalAveragePooling2D\u001b[0m)        │                        │               │\n",
              "├─────────────────────────────────┼────────────────────────┼───────────────┤\n",
              "│ dropout_3 (\u001b[38;5;33mDropout\u001b[0m)             │ (\u001b[38;5;45mNone\u001b[0m, \u001b[38;5;34m256\u001b[0m)            │             \u001b[38;5;34m0\u001b[0m │\n",
              "├─────────────────────────────────┼────────────────────────┼───────────────┤\n",
              "│ dense_1 (\u001b[38;5;33mDense\u001b[0m)                 │ (\u001b[38;5;45mNone\u001b[0m, \u001b[38;5;34m1\u001b[0m)              │           \u001b[38;5;34m257\u001b[0m │\n",
              "└─────────────────────────────────┴────────────────────────┴───────────────┘\n"
            ],
            "text/html": [
              "<pre style=\"white-space:pre;overflow-x:auto;line-height:normal;font-family:Menlo,'DejaVu Sans Mono',consolas,'Courier New',monospace\">┏━━━━━━━━━━━━━━━━━━━━━━━━━━━━━━━━━┳━━━━━━━━━━━━━━━━━━━━━━━━┳━━━━━━━━━━━━━━━┓\n",
              "┃<span style=\"font-weight: bold\"> Layer (type)                    </span>┃<span style=\"font-weight: bold\"> Output Shape           </span>┃<span style=\"font-weight: bold\">       Param # </span>┃\n",
              "┡━━━━━━━━━━━━━━━━━━━━━━━━━━━━━━━━━╇━━━━━━━━━━━━━━━━━━━━━━━━╇━━━━━━━━━━━━━━━┩\n",
              "│ input_layer_1 (<span style=\"color: #0087ff; text-decoration-color: #0087ff\">InputLayer</span>)      │ (<span style=\"color: #00d7ff; text-decoration-color: #00d7ff\">None</span>, <span style=\"color: #00af00; text-decoration-color: #00af00\">512</span>, <span style=\"color: #00af00; text-decoration-color: #00af00\">512</span>, <span style=\"color: #00af00; text-decoration-color: #00af00\">1</span>)    │             <span style=\"color: #00af00; text-decoration-color: #00af00\">0</span> │\n",
              "├─────────────────────────────────┼────────────────────────┼───────────────┤\n",
              "│ conv2d_5 (<span style=\"color: #0087ff; text-decoration-color: #0087ff\">Conv2D</span>)               │ (<span style=\"color: #00d7ff; text-decoration-color: #00d7ff\">None</span>, <span style=\"color: #00af00; text-decoration-color: #00af00\">512</span>, <span style=\"color: #00af00; text-decoration-color: #00af00\">512</span>, <span style=\"color: #00af00; text-decoration-color: #00af00\">32</span>)   │           <span style=\"color: #00af00; text-decoration-color: #00af00\">320</span> │\n",
              "├─────────────────────────────────┼────────────────────────┼───────────────┤\n",
              "│ max_pooling2d_4 (<span style=\"color: #0087ff; text-decoration-color: #0087ff\">MaxPooling2D</span>)  │ (<span style=\"color: #00d7ff; text-decoration-color: #00d7ff\">None</span>, <span style=\"color: #00af00; text-decoration-color: #00af00\">256</span>, <span style=\"color: #00af00; text-decoration-color: #00af00\">256</span>, <span style=\"color: #00af00; text-decoration-color: #00af00\">32</span>)   │             <span style=\"color: #00af00; text-decoration-color: #00af00\">0</span> │\n",
              "├─────────────────────────────────┼────────────────────────┼───────────────┤\n",
              "│ conv2d_6 (<span style=\"color: #0087ff; text-decoration-color: #0087ff\">Conv2D</span>)               │ (<span style=\"color: #00d7ff; text-decoration-color: #00d7ff\">None</span>, <span style=\"color: #00af00; text-decoration-color: #00af00\">256</span>, <span style=\"color: #00af00; text-decoration-color: #00af00\">256</span>, <span style=\"color: #00af00; text-decoration-color: #00af00\">64</span>)   │        <span style=\"color: #00af00; text-decoration-color: #00af00\">51,264</span> │\n",
              "├─────────────────────────────────┼────────────────────────┼───────────────┤\n",
              "│ max_pooling2d_5 (<span style=\"color: #0087ff; text-decoration-color: #0087ff\">MaxPooling2D</span>)  │ (<span style=\"color: #00d7ff; text-decoration-color: #00d7ff\">None</span>, <span style=\"color: #00af00; text-decoration-color: #00af00\">128</span>, <span style=\"color: #00af00; text-decoration-color: #00af00\">128</span>, <span style=\"color: #00af00; text-decoration-color: #00af00\">64</span>)   │             <span style=\"color: #00af00; text-decoration-color: #00af00\">0</span> │\n",
              "├─────────────────────────────────┼────────────────────────┼───────────────┤\n",
              "│ conv2d_7 (<span style=\"color: #0087ff; text-decoration-color: #0087ff\">Conv2D</span>)               │ (<span style=\"color: #00d7ff; text-decoration-color: #00d7ff\">None</span>, <span style=\"color: #00af00; text-decoration-color: #00af00\">128</span>, <span style=\"color: #00af00; text-decoration-color: #00af00\">128</span>, <span style=\"color: #00af00; text-decoration-color: #00af00\">192</span>)  │       <span style=\"color: #00af00; text-decoration-color: #00af00\">110,592</span> │\n",
              "├─────────────────────────────────┼────────────────────────┼───────────────┤\n",
              "│ batch_normalization_2           │ (<span style=\"color: #00d7ff; text-decoration-color: #00d7ff\">None</span>, <span style=\"color: #00af00; text-decoration-color: #00af00\">128</span>, <span style=\"color: #00af00; text-decoration-color: #00af00\">128</span>, <span style=\"color: #00af00; text-decoration-color: #00af00\">192</span>)  │           <span style=\"color: #00af00; text-decoration-color: #00af00\">768</span> │\n",
              "│ (<span style=\"color: #0087ff; text-decoration-color: #0087ff\">BatchNormalization</span>)            │                        │               │\n",
              "├─────────────────────────────────┼────────────────────────┼───────────────┤\n",
              "│ activation_2 (<span style=\"color: #0087ff; text-decoration-color: #0087ff\">Activation</span>)       │ (<span style=\"color: #00d7ff; text-decoration-color: #00d7ff\">None</span>, <span style=\"color: #00af00; text-decoration-color: #00af00\">128</span>, <span style=\"color: #00af00; text-decoration-color: #00af00\">128</span>, <span style=\"color: #00af00; text-decoration-color: #00af00\">192</span>)  │             <span style=\"color: #00af00; text-decoration-color: #00af00\">0</span> │\n",
              "├─────────────────────────────────┼────────────────────────┼───────────────┤\n",
              "│ max_pooling2d_6 (<span style=\"color: #0087ff; text-decoration-color: #0087ff\">MaxPooling2D</span>)  │ (<span style=\"color: #00d7ff; text-decoration-color: #00d7ff\">None</span>, <span style=\"color: #00af00; text-decoration-color: #00af00\">64</span>, <span style=\"color: #00af00; text-decoration-color: #00af00\">64</span>, <span style=\"color: #00af00; text-decoration-color: #00af00\">192</span>)    │             <span style=\"color: #00af00; text-decoration-color: #00af00\">0</span> │\n",
              "├─────────────────────────────────┼────────────────────────┼───────────────┤\n",
              "│ dropout_2 (<span style=\"color: #0087ff; text-decoration-color: #0087ff\">Dropout</span>)             │ (<span style=\"color: #00d7ff; text-decoration-color: #00d7ff\">None</span>, <span style=\"color: #00af00; text-decoration-color: #00af00\">64</span>, <span style=\"color: #00af00; text-decoration-color: #00af00\">64</span>, <span style=\"color: #00af00; text-decoration-color: #00af00\">192</span>)    │             <span style=\"color: #00af00; text-decoration-color: #00af00\">0</span> │\n",
              "├─────────────────────────────────┼────────────────────────┼───────────────┤\n",
              "│ conv2d_8 (<span style=\"color: #0087ff; text-decoration-color: #0087ff\">Conv2D</span>)               │ (<span style=\"color: #00d7ff; text-decoration-color: #00d7ff\">None</span>, <span style=\"color: #00af00; text-decoration-color: #00af00\">64</span>, <span style=\"color: #00af00; text-decoration-color: #00af00\">64</span>, <span style=\"color: #00af00; text-decoration-color: #00af00\">256</span>)    │       <span style=\"color: #00af00; text-decoration-color: #00af00\">442,624</span> │\n",
              "├─────────────────────────────────┼────────────────────────┼───────────────┤\n",
              "│ max_pooling2d_7 (<span style=\"color: #0087ff; text-decoration-color: #0087ff\">MaxPooling2D</span>)  │ (<span style=\"color: #00d7ff; text-decoration-color: #00d7ff\">None</span>, <span style=\"color: #00af00; text-decoration-color: #00af00\">32</span>, <span style=\"color: #00af00; text-decoration-color: #00af00\">32</span>, <span style=\"color: #00af00; text-decoration-color: #00af00\">256</span>)    │             <span style=\"color: #00af00; text-decoration-color: #00af00\">0</span> │\n",
              "├─────────────────────────────────┼────────────────────────┼───────────────┤\n",
              "│ conv2d_9 (<span style=\"color: #0087ff; text-decoration-color: #0087ff\">Conv2D</span>)               │ (<span style=\"color: #00d7ff; text-decoration-color: #00d7ff\">None</span>, <span style=\"color: #00af00; text-decoration-color: #00af00\">32</span>, <span style=\"color: #00af00; text-decoration-color: #00af00\">32</span>, <span style=\"color: #00af00; text-decoration-color: #00af00\">256</span>)    │       <span style=\"color: #00af00; text-decoration-color: #00af00\">589,824</span> │\n",
              "├─────────────────────────────────┼────────────────────────┼───────────────┤\n",
              "│ batch_normalization_3           │ (<span style=\"color: #00d7ff; text-decoration-color: #00d7ff\">None</span>, <span style=\"color: #00af00; text-decoration-color: #00af00\">32</span>, <span style=\"color: #00af00; text-decoration-color: #00af00\">32</span>, <span style=\"color: #00af00; text-decoration-color: #00af00\">256</span>)    │         <span style=\"color: #00af00; text-decoration-color: #00af00\">1,024</span> │\n",
              "│ (<span style=\"color: #0087ff; text-decoration-color: #0087ff\">BatchNormalization</span>)            │                        │               │\n",
              "├─────────────────────────────────┼────────────────────────┼───────────────┤\n",
              "│ activation_3 (<span style=\"color: #0087ff; text-decoration-color: #0087ff\">Activation</span>)       │ (<span style=\"color: #00d7ff; text-decoration-color: #00d7ff\">None</span>, <span style=\"color: #00af00; text-decoration-color: #00af00\">32</span>, <span style=\"color: #00af00; text-decoration-color: #00af00\">32</span>, <span style=\"color: #00af00; text-decoration-color: #00af00\">256</span>)    │             <span style=\"color: #00af00; text-decoration-color: #00af00\">0</span> │\n",
              "├─────────────────────────────────┼────────────────────────┼───────────────┤\n",
              "│ global_average_pooling2d_1      │ (<span style=\"color: #00d7ff; text-decoration-color: #00d7ff\">None</span>, <span style=\"color: #00af00; text-decoration-color: #00af00\">256</span>)            │             <span style=\"color: #00af00; text-decoration-color: #00af00\">0</span> │\n",
              "│ (<span style=\"color: #0087ff; text-decoration-color: #0087ff\">GlobalAveragePooling2D</span>)        │                        │               │\n",
              "├─────────────────────────────────┼────────────────────────┼───────────────┤\n",
              "│ dropout_3 (<span style=\"color: #0087ff; text-decoration-color: #0087ff\">Dropout</span>)             │ (<span style=\"color: #00d7ff; text-decoration-color: #00d7ff\">None</span>, <span style=\"color: #00af00; text-decoration-color: #00af00\">256</span>)            │             <span style=\"color: #00af00; text-decoration-color: #00af00\">0</span> │\n",
              "├─────────────────────────────────┼────────────────────────┼───────────────┤\n",
              "│ dense_1 (<span style=\"color: #0087ff; text-decoration-color: #0087ff\">Dense</span>)                 │ (<span style=\"color: #00d7ff; text-decoration-color: #00d7ff\">None</span>, <span style=\"color: #00af00; text-decoration-color: #00af00\">1</span>)              │           <span style=\"color: #00af00; text-decoration-color: #00af00\">257</span> │\n",
              "└─────────────────────────────────┴────────────────────────┴───────────────┘\n",
              "</pre>\n"
            ]
          },
          "metadata": {}
        },
        {
          "output_type": "display_data",
          "data": {
            "text/plain": [
              "\u001b[1m Total params: \u001b[0m\u001b[38;5;34m1,196,673\u001b[0m (4.56 MB)\n"
            ],
            "text/html": [
              "<pre style=\"white-space:pre;overflow-x:auto;line-height:normal;font-family:Menlo,'DejaVu Sans Mono',consolas,'Courier New',monospace\"><span style=\"font-weight: bold\"> Total params: </span><span style=\"color: #00af00; text-decoration-color: #00af00\">1,196,673</span> (4.56 MB)\n",
              "</pre>\n"
            ]
          },
          "metadata": {}
        },
        {
          "output_type": "display_data",
          "data": {
            "text/plain": [
              "\u001b[1m Trainable params: \u001b[0m\u001b[38;5;34m1,195,777\u001b[0m (4.56 MB)\n"
            ],
            "text/html": [
              "<pre style=\"white-space:pre;overflow-x:auto;line-height:normal;font-family:Menlo,'DejaVu Sans Mono',consolas,'Courier New',monospace\"><span style=\"font-weight: bold\"> Trainable params: </span><span style=\"color: #00af00; text-decoration-color: #00af00\">1,195,777</span> (4.56 MB)\n",
              "</pre>\n"
            ]
          },
          "metadata": {}
        },
        {
          "output_type": "display_data",
          "data": {
            "text/plain": [
              "\u001b[1m Non-trainable params: \u001b[0m\u001b[38;5;34m896\u001b[0m (3.50 KB)\n"
            ],
            "text/html": [
              "<pre style=\"white-space:pre;overflow-x:auto;line-height:normal;font-family:Menlo,'DejaVu Sans Mono',consolas,'Courier New',monospace\"><span style=\"font-weight: bold\"> Non-trainable params: </span><span style=\"color: #00af00; text-decoration-color: #00af00\">896</span> (3.50 KB)\n",
              "</pre>\n"
            ]
          },
          "metadata": {}
        }
      ]
    },
    {
      "cell_type": "code",
      "source": [
        "stop_early = EarlyStopping(monitor='val_loss', patience=15, restore_best_weights=True)\n",
        "\n",
        "history = best_model_visible.fit(\n",
        "    train_visible_ds,\n",
        "    validation_data=val_visible_ds,\n",
        "    epochs=75,\n",
        "    callbacks=[stop_early],\n",
        ")\n",
        "\n",
        "visible_history_path = data_gen_folder + 'visible_history.txt'\n",
        "visible_model_path = data_gen_folder + 'visible_model.keras'\n",
        "\n",
        "best_model_visible.save(visible_model_path)\n",
        "with open(visible_history_path, 'w', encoding='utf-8') as file:\n",
        "    json.dump(history.history, file, indent=4, ensure_ascii=False)"
      ],
      "metadata": {
        "id": "idzFT_kevLF_",
        "outputId": "be3f58c9-6a81-4033-d4f1-cb4d231767f1",
        "colab": {
          "base_uri": "https://localhost:8080/"
        }
      },
      "id": "idzFT_kevLF_",
      "execution_count": 23,
      "outputs": [
        {
          "output_type": "stream",
          "name": "stdout",
          "text": [
            "Epoch 1/75\n",
            "\u001b[1m603/603\u001b[0m \u001b[32m━━━━━━━━━━━━━━━━━━━━\u001b[0m\u001b[37m\u001b[0m \u001b[1m50s\u001b[0m 73ms/step - binary_accuracy: 0.8956 - loss: 0.3342 - precision_1: 0.0979 - recall_1: 0.0049 - val_binary_accuracy: 0.9008 - val_loss: 0.3148 - val_precision_1: 0.0000e+00 - val_recall_1: 0.0000e+00\n",
            "Epoch 2/75\n",
            "\u001b[1m603/603\u001b[0m \u001b[32m━━━━━━━━━━━━━━━━━━━━\u001b[0m\u001b[37m\u001b[0m \u001b[1m38s\u001b[0m 63ms/step - binary_accuracy: 0.8986 - loss: 0.3062 - precision_1: 0.3782 - recall_1: 0.0126 - val_binary_accuracy: 0.8925 - val_loss: 0.3095 - val_precision_1: 0.3814 - val_recall_1: 0.1331\n",
            "Epoch 3/75\n",
            "\u001b[1m603/603\u001b[0m \u001b[32m━━━━━━━━━━━━━━━━━━━━\u001b[0m\u001b[37m\u001b[0m \u001b[1m38s\u001b[0m 64ms/step - binary_accuracy: 0.8982 - loss: 0.2881 - precision_1: 0.4087 - recall_1: 0.0321 - val_binary_accuracy: 0.8831 - val_loss: 0.3349 - val_precision_1: 0.3729 - val_recall_1: 0.2604\n",
            "Epoch 4/75\n",
            "\u001b[1m603/603\u001b[0m \u001b[32m━━━━━━━━━━━━━━━━━━━━\u001b[0m\u001b[37m\u001b[0m \u001b[1m38s\u001b[0m 64ms/step - binary_accuracy: 0.8980 - loss: 0.2759 - precision_1: 0.4501 - recall_1: 0.0724 - val_binary_accuracy: 0.9025 - val_loss: 0.2648 - val_precision_1: 0.5789 - val_recall_1: 0.0651\n",
            "Epoch 5/75\n",
            "\u001b[1m603/603\u001b[0m \u001b[32m━━━━━━━━━━━━━━━━━━━━\u001b[0m\u001b[37m\u001b[0m \u001b[1m38s\u001b[0m 63ms/step - binary_accuracy: 0.8985 - loss: 0.2681 - precision_1: 0.4658 - recall_1: 0.0864 - val_binary_accuracy: 0.9005 - val_loss: 0.2611 - val_precision_1: 0.4444 - val_recall_1: 0.0118\n",
            "Epoch 6/75\n",
            "\u001b[1m603/603\u001b[0m \u001b[32m━━━━━━━━━━━━━━━━━━━━\u001b[0m\u001b[37m\u001b[0m \u001b[1m38s\u001b[0m 63ms/step - binary_accuracy: 0.8991 - loss: 0.2601 - precision_1: 0.4881 - recall_1: 0.1106 - val_binary_accuracy: 0.9005 - val_loss: 0.2527 - val_precision_1: 0.4615 - val_recall_1: 0.0178\n",
            "Epoch 7/75\n",
            "\u001b[1m603/603\u001b[0m \u001b[32m━━━━━━━━━━━━━━━━━━━━\u001b[0m\u001b[37m\u001b[0m \u001b[1m38s\u001b[0m 63ms/step - binary_accuracy: 0.8992 - loss: 0.2555 - precision_1: 0.4926 - recall_1: 0.1237 - val_binary_accuracy: 0.9014 - val_loss: 0.2512 - val_precision_1: 0.6250 - val_recall_1: 0.0148\n",
            "Epoch 8/75\n",
            "\u001b[1m603/603\u001b[0m \u001b[32m━━━━━━━━━━━━━━━━━━━━\u001b[0m\u001b[37m\u001b[0m \u001b[1m38s\u001b[0m 63ms/step - binary_accuracy: 0.8992 - loss: 0.2486 - precision_1: 0.4928 - recall_1: 0.1386 - val_binary_accuracy: 0.9016 - val_loss: 0.2281 - val_precision_1: 0.5254 - val_recall_1: 0.0917\n",
            "Epoch 9/75\n",
            "\u001b[1m603/603\u001b[0m \u001b[32m━━━━━━━━━━━━━━━━━━━━\u001b[0m\u001b[37m\u001b[0m \u001b[1m38s\u001b[0m 63ms/step - binary_accuracy: 0.9019 - loss: 0.2463 - precision_1: 0.5347 - recall_1: 0.1699 - val_binary_accuracy: 0.8993 - val_loss: 0.2277 - val_precision_1: 0.4528 - val_recall_1: 0.0710\n",
            "Epoch 10/75\n",
            "\u001b[1m603/603\u001b[0m \u001b[32m━━━━━━━━━━━━━━━━━━━━\u001b[0m\u001b[37m\u001b[0m \u001b[1m38s\u001b[0m 63ms/step - binary_accuracy: 0.9004 - loss: 0.2402 - precision_1: 0.5109 - recall_1: 0.1704 - val_binary_accuracy: 0.9005 - val_loss: 0.2260 - val_precision_1: 0.4898 - val_recall_1: 0.0710\n",
            "Epoch 11/75\n",
            "\u001b[1m603/603\u001b[0m \u001b[32m━━━━━━━━━━━━━━━━━━━━\u001b[0m\u001b[37m\u001b[0m \u001b[1m38s\u001b[0m 63ms/step - binary_accuracy: 0.8983 - loss: 0.2364 - precision_1: 0.4827 - recall_1: 0.1733 - val_binary_accuracy: 0.9016 - val_loss: 0.2271 - val_precision_1: 0.5385 - val_recall_1: 0.0621\n",
            "Epoch 12/75\n",
            "\u001b[1m603/603\u001b[0m \u001b[32m━━━━━━━━━━━━━━━━━━━━\u001b[0m\u001b[37m\u001b[0m \u001b[1m38s\u001b[0m 63ms/step - binary_accuracy: 0.9002 - loss: 0.2332 - precision_1: 0.5089 - recall_1: 0.1815 - val_binary_accuracy: 0.9037 - val_loss: 0.2211 - val_precision_1: 0.5658 - val_recall_1: 0.1272\n",
            "Epoch 13/75\n",
            "\u001b[1m603/603\u001b[0m \u001b[32m━━━━━━━━━━━━━━━━━━━━\u001b[0m\u001b[37m\u001b[0m \u001b[1m38s\u001b[0m 64ms/step - binary_accuracy: 0.9025 - loss: 0.2317 - precision_1: 0.5383 - recall_1: 0.2059 - val_binary_accuracy: 0.9043 - val_loss: 0.2181 - val_precision_1: 0.5588 - val_recall_1: 0.1686\n",
            "Epoch 14/75\n",
            "\u001b[1m603/603\u001b[0m \u001b[32m━━━━━━━━━━━━━━━━━━━━\u001b[0m\u001b[37m\u001b[0m \u001b[1m38s\u001b[0m 63ms/step - binary_accuracy: 0.9029 - loss: 0.2276 - precision_1: 0.5397 - recall_1: 0.2265 - val_binary_accuracy: 0.9019 - val_loss: 0.2203 - val_precision_1: 0.5213 - val_recall_1: 0.1450\n",
            "Epoch 15/75\n",
            "\u001b[1m603/603\u001b[0m \u001b[32m━━━━━━━━━━━━━━━━━━━━\u001b[0m\u001b[37m\u001b[0m \u001b[1m38s\u001b[0m 63ms/step - binary_accuracy: 0.9013 - loss: 0.2281 - precision_1: 0.5208 - recall_1: 0.2187 - val_binary_accuracy: 0.9037 - val_loss: 0.2197 - val_precision_1: 0.5543 - val_recall_1: 0.1509\n",
            "Epoch 16/75\n",
            "\u001b[1m603/603\u001b[0m \u001b[32m━━━━━━━━━━━━━━━━━━━━\u001b[0m\u001b[37m\u001b[0m \u001b[1m38s\u001b[0m 63ms/step - binary_accuracy: 0.9041 - loss: 0.2231 - precision_1: 0.5505 - recall_1: 0.2478 - val_binary_accuracy: 0.9049 - val_loss: 0.2174 - val_precision_1: 0.6129 - val_recall_1: 0.1124\n",
            "Epoch 17/75\n",
            "\u001b[1m603/603\u001b[0m \u001b[32m━━━━━━━━━━━━━━━━━━━━\u001b[0m\u001b[37m\u001b[0m \u001b[1m38s\u001b[0m 63ms/step - binary_accuracy: 0.9039 - loss: 0.2214 - precision_1: 0.5484 - recall_1: 0.2492 - val_binary_accuracy: 0.9031 - val_loss: 0.2191 - val_precision_1: 0.5625 - val_recall_1: 0.1065\n",
            "Epoch 18/75\n",
            "\u001b[1m603/603\u001b[0m \u001b[32m━━━━━━━━━━━━━━━━━━━━\u001b[0m\u001b[37m\u001b[0m \u001b[1m38s\u001b[0m 63ms/step - binary_accuracy: 0.9054 - loss: 0.2210 - precision_1: 0.5626 - recall_1: 0.2612 - val_binary_accuracy: 0.9046 - val_loss: 0.2138 - val_precision_1: 0.5802 - val_recall_1: 0.1391\n",
            "Epoch 19/75\n",
            "\u001b[1m603/603\u001b[0m \u001b[32m━━━━━━━━━━━━━━━━━━━━\u001b[0m\u001b[37m\u001b[0m \u001b[1m38s\u001b[0m 63ms/step - binary_accuracy: 0.9039 - loss: 0.2174 - precision_1: 0.5444 - recall_1: 0.2645 - val_binary_accuracy: 0.9028 - val_loss: 0.2252 - val_precision_1: 0.5556 - val_recall_1: 0.1036\n",
            "Epoch 20/75\n",
            "\u001b[1m603/603\u001b[0m \u001b[32m━━━━━━━━━━━━━━━━━━━━\u001b[0m\u001b[37m\u001b[0m \u001b[1m38s\u001b[0m 63ms/step - binary_accuracy: 0.9079 - loss: 0.2139 - precision_1: 0.5849 - recall_1: 0.2884 - val_binary_accuracy: 0.9037 - val_loss: 0.2092 - val_precision_1: 0.5287 - val_recall_1: 0.2722\n",
            "Epoch 21/75\n",
            "\u001b[1m603/603\u001b[0m \u001b[32m━━━━━━━━━━━━━━━━━━━━\u001b[0m\u001b[37m\u001b[0m \u001b[1m38s\u001b[0m 63ms/step - binary_accuracy: 0.9087 - loss: 0.2120 - precision_1: 0.5909 - recall_1: 0.3000 - val_binary_accuracy: 0.9066 - val_loss: 0.2100 - val_precision_1: 0.5543 - val_recall_1: 0.3018\n",
            "Epoch 22/75\n",
            "\u001b[1m603/603\u001b[0m \u001b[32m━━━━━━━━━━━━━━━━━━━━\u001b[0m\u001b[37m\u001b[0m \u001b[1m38s\u001b[0m 63ms/step - binary_accuracy: 0.9086 - loss: 0.2094 - precision_1: 0.5880 - recall_1: 0.3031 - val_binary_accuracy: 0.9078 - val_loss: 0.2070 - val_precision_1: 0.5667 - val_recall_1: 0.3018\n",
            "Epoch 23/75\n",
            "\u001b[1m603/603\u001b[0m \u001b[32m━━━━━━━━━━━━━━━━━━━━\u001b[0m\u001b[37m\u001b[0m \u001b[1m38s\u001b[0m 63ms/step - binary_accuracy: 0.9085 - loss: 0.2068 - precision_1: 0.5831 - recall_1: 0.3132 - val_binary_accuracy: 0.9049 - val_loss: 0.2079 - val_precision_1: 0.5310 - val_recall_1: 0.3550\n",
            "Epoch 24/75\n",
            "\u001b[1m603/603\u001b[0m \u001b[32m━━━━━━━━━━━━━━━━━━━━\u001b[0m\u001b[37m\u001b[0m \u001b[1m38s\u001b[0m 63ms/step - binary_accuracy: 0.9108 - loss: 0.2048 - precision_1: 0.5968 - recall_1: 0.3447 - val_binary_accuracy: 0.9069 - val_loss: 0.2189 - val_precision_1: 0.5734 - val_recall_1: 0.2426\n",
            "Epoch 25/75\n",
            "\u001b[1m603/603\u001b[0m \u001b[32m━━━━━━━━━━━━━━━━━━━━\u001b[0m\u001b[37m\u001b[0m \u001b[1m38s\u001b[0m 63ms/step - binary_accuracy: 0.9106 - loss: 0.2029 - precision_1: 0.5974 - recall_1: 0.3365 - val_binary_accuracy: 0.9060 - val_loss: 0.2274 - val_precision_1: 0.5652 - val_recall_1: 0.2308\n",
            "Epoch 26/75\n",
            "\u001b[1m603/603\u001b[0m \u001b[32m━━━━━━━━━━━━━━━━━━━━\u001b[0m\u001b[37m\u001b[0m \u001b[1m38s\u001b[0m 64ms/step - binary_accuracy: 0.9148 - loss: 0.1956 - precision_1: 0.6301 - recall_1: 0.3648 - val_binary_accuracy: 0.9072 - val_loss: 0.2067 - val_precision_1: 0.5509 - val_recall_1: 0.3521\n",
            "Epoch 27/75\n",
            "\u001b[1m603/603\u001b[0m \u001b[32m━━━━━━━━━━━━━━━━━━━━\u001b[0m\u001b[37m\u001b[0m \u001b[1m38s\u001b[0m 64ms/step - binary_accuracy: 0.9170 - loss: 0.1936 - precision_1: 0.6419 - recall_1: 0.3897 - val_binary_accuracy: 0.9066 - val_loss: 0.2127 - val_precision_1: 0.5510 - val_recall_1: 0.3195\n",
            "Epoch 28/75\n",
            "\u001b[1m603/603\u001b[0m \u001b[32m━━━━━━━━━━━━━━━━━━━━\u001b[0m\u001b[37m\u001b[0m \u001b[1m38s\u001b[0m 64ms/step - binary_accuracy: 0.9158 - loss: 0.1923 - precision_1: 0.6328 - recall_1: 0.3858 - val_binary_accuracy: 0.9072 - val_loss: 0.2109 - val_precision_1: 0.5514 - val_recall_1: 0.3491\n",
            "Epoch 29/75\n",
            "\u001b[1m603/603\u001b[0m \u001b[32m━━━━━━━━━━━━━━━━━━━━\u001b[0m\u001b[37m\u001b[0m \u001b[1m38s\u001b[0m 63ms/step - binary_accuracy: 0.9181 - loss: 0.1869 - precision_1: 0.6478 - recall_1: 0.4047 - val_binary_accuracy: 0.9031 - val_loss: 0.2527 - val_precision_1: 0.5625 - val_recall_1: 0.1065\n",
            "Epoch 30/75\n",
            "\u001b[1m603/603\u001b[0m \u001b[32m━━━━━━━━━━━━━━━━━━━━\u001b[0m\u001b[37m\u001b[0m \u001b[1m38s\u001b[0m 63ms/step - binary_accuracy: 0.9187 - loss: 0.1879 - precision_1: 0.6521 - recall_1: 0.4089 - val_binary_accuracy: 0.9046 - val_loss: 0.2891 - val_precision_1: 0.6275 - val_recall_1: 0.0947\n",
            "Epoch 31/75\n",
            "\u001b[1m603/603\u001b[0m \u001b[32m━━━━━━━━━━━━━━━━━━━━\u001b[0m\u001b[37m\u001b[0m \u001b[1m38s\u001b[0m 63ms/step - binary_accuracy: 0.9199 - loss: 0.1831 - precision_1: 0.6529 - recall_1: 0.4332 - val_binary_accuracy: 0.9072 - val_loss: 0.2209 - val_precision_1: 0.5632 - val_recall_1: 0.2899\n",
            "Epoch 32/75\n",
            "\u001b[1m603/603\u001b[0m \u001b[32m━━━━━━━━━━━━━━━━━━━━\u001b[0m\u001b[37m\u001b[0m \u001b[1m38s\u001b[0m 63ms/step - binary_accuracy: 0.9222 - loss: 0.1791 - precision_1: 0.6691 - recall_1: 0.4464 - val_binary_accuracy: 0.9075 - val_loss: 0.2352 - val_precision_1: 0.5752 - val_recall_1: 0.2604\n",
            "Epoch 33/75\n",
            "\u001b[1m603/603\u001b[0m \u001b[32m━━━━━━━━━━━━━━━━━━━━\u001b[0m\u001b[37m\u001b[0m \u001b[1m38s\u001b[0m 63ms/step - binary_accuracy: 0.9262 - loss: 0.1765 - precision_1: 0.6984 - recall_1: 0.4669 - val_binary_accuracy: 0.9060 - val_loss: 0.2523 - val_precision_1: 0.5938 - val_recall_1: 0.1686\n",
            "Epoch 34/75\n",
            "\u001b[1m603/603\u001b[0m \u001b[32m━━━━━━━━━━━━━━━━━━━━\u001b[0m\u001b[37m\u001b[0m \u001b[1m38s\u001b[0m 64ms/step - binary_accuracy: 0.9280 - loss: 0.1669 - precision_1: 0.7023 - recall_1: 0.4919 - val_binary_accuracy: 0.9072 - val_loss: 0.2262 - val_precision_1: 0.5579 - val_recall_1: 0.3136\n",
            "Epoch 35/75\n",
            "\u001b[1m603/603\u001b[0m \u001b[32m━━━━━━━━━━━━━━━━━━━━\u001b[0m\u001b[37m\u001b[0m \u001b[1m38s\u001b[0m 63ms/step - binary_accuracy: 0.9318 - loss: 0.1619 - precision_1: 0.7204 - recall_1: 0.5219 - val_binary_accuracy: 0.9055 - val_loss: 0.2791 - val_precision_1: 0.5851 - val_recall_1: 0.1627\n",
            "Epoch 36/75\n",
            "\u001b[1m603/603\u001b[0m \u001b[32m━━━━━━━━━━━━━━━━━━━━\u001b[0m\u001b[37m\u001b[0m \u001b[1m38s\u001b[0m 63ms/step - binary_accuracy: 0.9304 - loss: 0.1634 - precision_1: 0.7129 - recall_1: 0.5145 - val_binary_accuracy: 0.9043 - val_loss: 0.3047 - val_precision_1: 0.6111 - val_recall_1: 0.0976\n",
            "Epoch 37/75\n",
            "\u001b[1m603/603\u001b[0m \u001b[32m━━━━━━━━━━━━━━━━━━━━\u001b[0m\u001b[37m\u001b[0m \u001b[1m38s\u001b[0m 63ms/step - binary_accuracy: 0.9334 - loss: 0.1558 - precision_1: 0.7294 - recall_1: 0.5362 - val_binary_accuracy: 0.9078 - val_loss: 0.2368 - val_precision_1: 0.5571 - val_recall_1: 0.3462\n",
            "Epoch 38/75\n",
            "\u001b[1m603/603\u001b[0m \u001b[32m━━━━━━━━━━━━━━━━━━━━\u001b[0m\u001b[37m\u001b[0m \u001b[1m38s\u001b[0m 63ms/step - binary_accuracy: 0.9352 - loss: 0.1533 - precision_1: 0.7424 - recall_1: 0.5441 - val_binary_accuracy: 0.9069 - val_loss: 0.2494 - val_precision_1: 0.5652 - val_recall_1: 0.2692\n",
            "Epoch 39/75\n",
            "\u001b[1m603/603\u001b[0m \u001b[32m━━━━━━━━━━━━━━━━━━━━\u001b[0m\u001b[37m\u001b[0m \u001b[1m38s\u001b[0m 63ms/step - binary_accuracy: 0.9371 - loss: 0.1469 - precision_1: 0.7461 - recall_1: 0.5670 - val_binary_accuracy: 0.9052 - val_loss: 0.2560 - val_precision_1: 0.5524 - val_recall_1: 0.2337\n",
            "Epoch 40/75\n",
            "\u001b[1m603/603\u001b[0m \u001b[32m━━━━━━━━━━━━━━━━━━━━\u001b[0m\u001b[37m\u001b[0m \u001b[1m38s\u001b[0m 63ms/step - binary_accuracy: 0.9396 - loss: 0.1451 - precision_1: 0.7530 - recall_1: 0.5933 - val_binary_accuracy: 0.9060 - val_loss: 0.2525 - val_precision_1: 0.5479 - val_recall_1: 0.3047\n",
            "Epoch 41/75\n",
            "\u001b[1m603/603\u001b[0m \u001b[32m━━━━━━━━━━━━━━━━━━━━\u001b[0m\u001b[37m\u001b[0m \u001b[1m38s\u001b[0m 63ms/step - binary_accuracy: 0.9387 - loss: 0.1419 - precision_1: 0.7392 - recall_1: 0.6052 - val_binary_accuracy: 0.9060 - val_loss: 0.2633 - val_precision_1: 0.5402 - val_recall_1: 0.3580\n"
          ]
        }
      ]
    }
  ],
  "metadata": {
    "kernelspec": {
      "display_name": "Python 3",
      "name": "python3"
    },
    "language_info": {
      "codemirror_mode": {
        "name": "ipython",
        "version": 2
      },
      "file_extension": ".py",
      "mimetype": "text/x-python",
      "name": "python",
      "nbconvert_exporter": "python",
      "pygments_lexer": "ipython2",
      "version": "2.7.6"
    },
    "colab": {
      "provenance": [],
      "machine_shape": "hm",
      "gpuType": "A100"
    },
    "accelerator": "GPU"
  },
  "nbformat": 4,
  "nbformat_minor": 5
}